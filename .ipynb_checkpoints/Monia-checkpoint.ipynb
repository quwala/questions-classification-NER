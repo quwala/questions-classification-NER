{
 "cells": [
  {
   "cell_type": "markdown",
   "metadata": {},
   "source": [
    "# Q1. Questions Classification"
   ]
  },
  {
   "cell_type": "markdown",
   "metadata": {},
   "source": [
    "## Q1.1 Describe the Dataset qualitatively\n"
   ]
  },
  {
   "cell_type": "code",
   "execution_count": 1,
   "metadata": {
    "collapsed": true
   },
   "outputs": [],
   "source": [
    "# TO DO"
   ]
  },
  {
   "cell_type": "markdown",
   "metadata": {},
   "source": [
    "## Q1.2 dataset Exploration"
   ]
  },
  {
   "cell_type": "code",
   "execution_count": 2,
   "metadata": {},
   "outputs": [],
   "source": [
    "import pandas as pd\n",
    "import pandas_ml as pdml\n",
    "import numpy as np\n",
    "import math, csv, re, itertools\n",
    "from nltk.collections import Counter\n",
    "import matplotlib.pyplot as plt"
   ]
  },
  {
   "cell_type": "code",
   "execution_count": 3,
   "metadata": {},
   "outputs": [
    {
     "data": {
      "text/html": [
       "<div>\n",
       "<style>\n",
       "    .dataframe thead tr:only-child th {\n",
       "        text-align: right;\n",
       "    }\n",
       "\n",
       "    .dataframe thead th {\n",
       "        text-align: left;\n",
       "    }\n",
       "\n",
       "    .dataframe tbody tr th {\n",
       "        vertical-align: top;\n",
       "    }\n",
       "</style>\n",
       "<table border=\"1\" class=\"dataframe\">\n",
       "  <thead>\n",
       "    <tr style=\"text-align: right;\">\n",
       "      <th></th>\n",
       "      <th>Coarce</th>\n",
       "      <th>Fine</th>\n",
       "      <th>Question</th>\n",
       "    </tr>\n",
       "  </thead>\n",
       "  <tbody>\n",
       "    <tr>\n",
       "      <th>0</th>\n",
       "      <td>DESC</td>\n",
       "      <td>manner</td>\n",
       "      <td>How did serfdom develop in and then leave Rus...</td>\n",
       "    </tr>\n",
       "    <tr>\n",
       "      <th>1</th>\n",
       "      <td>ENTY</td>\n",
       "      <td>cremat</td>\n",
       "      <td>What films featured the character Popeye Doyle ?</td>\n",
       "    </tr>\n",
       "    <tr>\n",
       "      <th>2</th>\n",
       "      <td>DESC</td>\n",
       "      <td>manner</td>\n",
       "      <td>How can I find a list of celebrities ' real n...</td>\n",
       "    </tr>\n",
       "    <tr>\n",
       "      <th>3</th>\n",
       "      <td>ENTY</td>\n",
       "      <td>animal</td>\n",
       "      <td>What fowl grabs the spotlight after the Chine...</td>\n",
       "    </tr>\n",
       "    <tr>\n",
       "      <th>4</th>\n",
       "      <td>ABBR</td>\n",
       "      <td>exp</td>\n",
       "      <td>What is the full form of .com ?</td>\n",
       "    </tr>\n",
       "    <tr>\n",
       "      <th>5</th>\n",
       "      <td>HUM</td>\n",
       "      <td>ind</td>\n",
       "      <td>What contemptible scoundrel stole the cork fr...</td>\n",
       "    </tr>\n",
       "    <tr>\n",
       "      <th>6</th>\n",
       "      <td>HUM</td>\n",
       "      <td>gr</td>\n",
       "      <td>What team did baseball 's St. Louis Browns be...</td>\n",
       "    </tr>\n",
       "    <tr>\n",
       "      <th>7</th>\n",
       "      <td>HUM</td>\n",
       "      <td>title</td>\n",
       "      <td>What is the oldest profession ?</td>\n",
       "    </tr>\n",
       "    <tr>\n",
       "      <th>8</th>\n",
       "      <td>DESC</td>\n",
       "      <td>def</td>\n",
       "      <td>What are liver enzymes ?</td>\n",
       "    </tr>\n",
       "    <tr>\n",
       "      <th>9</th>\n",
       "      <td>HUM</td>\n",
       "      <td>ind</td>\n",
       "      <td>Name the scar-faced bounty hunter of The Old ...</td>\n",
       "    </tr>\n",
       "  </tbody>\n",
       "</table>\n",
       "</div>"
      ],
      "text/plain": [
       "  Coarce    Fine                                           Question\n",
       "0   DESC  manner   How did serfdom develop in and then leave Rus...\n",
       "1   ENTY  cremat   What films featured the character Popeye Doyle ?\n",
       "2   DESC  manner   How can I find a list of celebrities ' real n...\n",
       "3   ENTY  animal   What fowl grabs the spotlight after the Chine...\n",
       "4   ABBR     exp                    What is the full form of .com ?\n",
       "5    HUM     ind   What contemptible scoundrel stole the cork fr...\n",
       "6    HUM      gr   What team did baseball 's St. Louis Browns be...\n",
       "7    HUM   title                    What is the oldest profession ?\n",
       "8   DESC     def                           What are liver enzymes ?\n",
       "9    HUM     ind   Name the scar-faced bounty hunter of The Old ..."
      ]
     },
     "execution_count": 3,
     "metadata": {},
     "output_type": "execute_result"
    }
   ],
   "source": [
    "file = 'training5.csv'\n",
    "\n",
    "data = pd.read_csv(file, encoding='utf8', header=None, sep='\\t', index_col=False)\n",
    "df = pd.DataFrame(data)\n",
    "\n",
    "# Preprocess Training Data\n",
    "df['Coarce'] = df[0].str.extract('([A-Z]\\w{0,})', expand=True)\n",
    "df['Fine'] = df[0].str.extract('(\\:\\w{0,})', expand=True)\n",
    "df['Fine'] = df['Fine'].str[1:]\n",
    "df['Question'] = df[0].str.replace('(\\w{0,}[A-Z]:\\w{0,})', '')\n",
    "df = df.drop(0, axis=1)\n",
    "\n",
    "df.head(10)"
   ]
  },
  {
   "cell_type": "code",
   "execution_count": 4,
   "metadata": {},
   "outputs": [
    {
     "data": {
      "text/html": [
       "<div>\n",
       "<style>\n",
       "    .dataframe thead tr:only-child th {\n",
       "        text-align: right;\n",
       "    }\n",
       "\n",
       "    .dataframe thead th {\n",
       "        text-align: left;\n",
       "    }\n",
       "\n",
       "    .dataframe tbody tr th {\n",
       "        vertical-align: top;\n",
       "    }\n",
       "</style>\n",
       "<table border=\"1\" class=\"dataframe\">\n",
       "  <thead>\n",
       "    <tr style=\"text-align: right;\">\n",
       "      <th></th>\n",
       "      <th>Coarce</th>\n",
       "      <th>Fine</th>\n",
       "      <th>Question</th>\n",
       "    </tr>\n",
       "  </thead>\n",
       "  <tbody>\n",
       "    <tr>\n",
       "      <th>0</th>\n",
       "      <td>NUM</td>\n",
       "      <td>dist</td>\n",
       "      <td>How far is it from Denver to Aspen ?</td>\n",
       "    </tr>\n",
       "    <tr>\n",
       "      <th>1</th>\n",
       "      <td>LOC</td>\n",
       "      <td>city</td>\n",
       "      <td>What county is Modesto , California in ?</td>\n",
       "    </tr>\n",
       "    <tr>\n",
       "      <th>2</th>\n",
       "      <td>HUM</td>\n",
       "      <td>desc</td>\n",
       "      <td>Who was Galileo ?</td>\n",
       "    </tr>\n",
       "    <tr>\n",
       "      <th>3</th>\n",
       "      <td>DESC</td>\n",
       "      <td>def</td>\n",
       "      <td>What is an atom ?</td>\n",
       "    </tr>\n",
       "    <tr>\n",
       "      <th>4</th>\n",
       "      <td>NUM</td>\n",
       "      <td>date</td>\n",
       "      <td>When did Hawaii become a state ?</td>\n",
       "    </tr>\n",
       "    <tr>\n",
       "      <th>5</th>\n",
       "      <td>NUM</td>\n",
       "      <td>dist</td>\n",
       "      <td>How tall is the Sears Building ?</td>\n",
       "    </tr>\n",
       "    <tr>\n",
       "      <th>6</th>\n",
       "      <td>HUM</td>\n",
       "      <td>gr</td>\n",
       "      <td>George Bush purchased a small interest in whi...</td>\n",
       "    </tr>\n",
       "    <tr>\n",
       "      <th>7</th>\n",
       "      <td>ENTY</td>\n",
       "      <td>plant</td>\n",
       "      <td>What is Australia 's national flower ?</td>\n",
       "    </tr>\n",
       "    <tr>\n",
       "      <th>8</th>\n",
       "      <td>DESC</td>\n",
       "      <td>reason</td>\n",
       "      <td>Why does the moon turn orange ?</td>\n",
       "    </tr>\n",
       "    <tr>\n",
       "      <th>9</th>\n",
       "      <td>DESC</td>\n",
       "      <td>def</td>\n",
       "      <td>What is autism ?</td>\n",
       "    </tr>\n",
       "  </tbody>\n",
       "</table>\n",
       "</div>"
      ],
      "text/plain": [
       "  Coarce    Fine                                           Question\n",
       "0    NUM    dist               How far is it from Denver to Aspen ?\n",
       "1    LOC    city           What county is Modesto , California in ?\n",
       "2    HUM    desc                                  Who was Galileo ?\n",
       "3   DESC     def                                  What is an atom ?\n",
       "4    NUM    date                   When did Hawaii become a state ?\n",
       "5    NUM    dist                   How tall is the Sears Building ?\n",
       "6    HUM      gr   George Bush purchased a small interest in whi...\n",
       "7   ENTY   plant             What is Australia 's national flower ?\n",
       "8   DESC  reason                    Why does the moon turn orange ?\n",
       "9   DESC     def                                   What is autism ?"
      ]
     },
     "execution_count": 4,
     "metadata": {},
     "output_type": "execute_result"
    }
   ],
   "source": [
    "file = 'testset.csv'\n",
    "\n",
    "data = pd.read_csv(file, encoding='utf8', header=None, sep='\\t', index_col=False)\n",
    "df_test = pd.DataFrame(data)\n",
    "\n",
    "# Preprocess Test Data\n",
    "df_test['Coarce'] = df_test[0].str.extract('([A-Z]\\w{0,})', expand=True)\n",
    "df_test['Fine'] = df_test[0].str.extract('(\\:\\w{0,})', expand=True)\n",
    "df_test['Fine'] = df_test['Fine'].str[1:]\n",
    "df_test['Question'] = df_test[0].str.replace('(\\w{0,}[A-Z]:\\w{0,})', '')\n",
    "df_test = df_test.drop(0, axis=1)\n",
    "\n",
    "df_test.head(10)"
   ]
  },
  {
   "cell_type": "markdown",
   "metadata": {},
   "source": [
    "### 1. Distribution of the question labels (number / percentage) - both for coarse and fine labels. "
   ]
  },
  {
   "cell_type": "code",
   "execution_count": 5,
   "metadata": {},
   "outputs": [
    {
     "data": {
      "text/plain": [
       "Index(['ENTY', 'HUM', 'DESC', 'NUM', 'LOC', 'ABBR'], dtype='object')"
      ]
     },
     "execution_count": 5,
     "metadata": {},
     "output_type": "execute_result"
    }
   ],
   "source": [
    "a = df['Coarce'].value_counts()\n",
    "idx = 0\n",
    "for i in a:\n",
    "    idx += 1\n",
    "a.index"
   ]
  },
  {
   "cell_type": "code",
   "execution_count": 6,
   "metadata": {},
   "outputs": [
    {
     "data": {
      "text/plain": [
       "Index(['ind', 'other', 'def', 'count', 'desc', 'manner', 'date', 'cremat',\n",
       "       'reason', 'gr', 'country', 'city', 'animal', 'food', 'dismed', 'termeq',\n",
       "       'period', 'money', 'exp', 'state', 'sport', 'event', 'product',\n",
       "       'substance', 'color', 'techmeth', 'dist', 'veh', 'perc', 'word',\n",
       "       'title', 'mount', 'body', 'abb', 'lang', 'volsize', 'plant', 'symbol',\n",
       "       'weight', 'instru', 'speed', 'code', 'letter', 'temp', 'ord',\n",
       "       'religion', 'currency'],\n",
       "      dtype='object')"
      ]
     },
     "execution_count": 6,
     "metadata": {},
     "output_type": "execute_result"
    }
   ],
   "source": [
    "b = df['Fine'].value_counts()\n",
    "idx = 0\n",
    "for i in b:\n",
    "    idx += 1\n",
    "b.index"
   ]
  },
  {
   "cell_type": "code",
   "execution_count": 7,
   "metadata": {},
   "outputs": [
    {
     "name": "stdout",
     "output_type": "stream",
     "text": [
      "Distribution of label  ENTY  is  0.229273661042\n",
      "Distribution of label  HUM  is  0.224321349963\n",
      "Distribution of label  DESC  is  0.213132795304\n",
      "Distribution of label  NUM  is  0.164343360235\n",
      "Distribution of label  LOC  is  0.153154805576\n",
      "Distribution of label  ABBR  is  0.0157740278797\n"
     ]
    },
    {
     "data": {
      "text/plain": [
       "1.0"
      ]
     },
     "execution_count": 7,
     "metadata": {},
     "output_type": "execute_result"
    }
   ],
   "source": [
    "a = df['Coarce'].value_counts()\n",
    "idx = 0\n",
    "freq_sum = 0\n",
    "for i in a:\n",
    "    print('Distribution of label ', a.index[idx], ' is ', i/len(df))\n",
    "    idx += 1\n",
    "    freq_sum += i/len(df)\n",
    "freq_sum"
   ]
  },
  {
   "cell_type": "code",
   "execution_count": 8,
   "metadata": {
    "collapsed": true
   },
   "outputs": [
    {
     "name": "stdout",
     "output_type": "stream",
     "text": [
      "Distribution of label  ind  is  0.176449009538\n",
      "Distribution of label  other  is  0.134446074835\n",
      "Distribution of label  def  is  0.0772193690389\n",
      "Distribution of label  count  is  0.0665810711665\n",
      "Distribution of label  desc  is  0.0588774761555\n",
      "Distribution of label  manner  is  0.050623624358\n",
      "Distribution of label  date  is  0.0399853264857\n",
      "Distribution of label  cremat  is  0.0379677182685\n",
      "Distribution of label  reason  is  0.0350330154072\n",
      "Distribution of label  gr  is  0.0346661775495\n",
      "Distribution of label  country  is  0.0284299339692\n",
      "Distribution of label  city  is  0.0236610418195\n",
      "Distribution of label  animal  is  0.0205429200293\n",
      "Distribution of label  food  is  0.0188921496698\n",
      "Distribution of label  dismed  is  0.0188921496698\n",
      "Distribution of label  termeq  is  0.0170579603815\n",
      "Distribution of label  period  is  0.0137564196625\n",
      "Distribution of label  money  is  0.0130227439472\n",
      "Distribution of label  exp  is  0.0128393250183\n",
      "Distribution of label  state  is  0.012105649303\n",
      "Distribution of label  sport  is  0.0113719735877\n",
      "Distribution of label  event  is  0.0102714600147\n",
      "Distribution of label  product  is  0.00770359501101\n",
      "Distribution of label  substance  is  0.00752017608217\n",
      "Distribution of label  color  is  0.00733675715334\n",
      "Distribution of label  techmeth  is  0.00696991929567\n",
      "Distribution of label  dist  is  0.00623624358034\n",
      "Distribution of label  veh  is  0.0049523110785\n",
      "Distribution of label  perc  is  0.0049523110785\n",
      "Distribution of label  word  is  0.00476889214967\n",
      "Distribution of label  title  is  0.00458547322084\n",
      "Distribution of label  mount  is  0.0038517975055\n",
      "Distribution of label  body  is  0.00293470286134\n",
      "Distribution of label  abb  is  0.00293470286134\n",
      "Distribution of label  lang  is  0.00293470286134\n",
      "Distribution of label  volsize  is  0.00238444607483\n",
      "Distribution of label  plant  is  0.00238444607483\n",
      "Distribution of label  symbol  is  0.00201760821717\n",
      "Distribution of label  weight  is  0.00201760821717\n",
      "Distribution of label  instru  is  0.00183418928833\n",
      "Distribution of label  speed  is  0.0016507703595\n",
      "Distribution of label  code  is  0.0016507703595\n",
      "Distribution of label  letter  is  0.0016507703595\n",
      "Distribution of label  temp  is  0.00146735143067\n",
      "Distribution of label  ord  is  0.001100513573\n",
      "Distribution of label  religion  is  0.000733675715334\n",
      "Distribution of label  currency  is  0.000733675715334\n"
     ]
    },
    {
     "data": {
      "text/plain": [
       "0.99999999999999978"
      ]
     },
     "execution_count": 8,
     "metadata": {},
     "output_type": "execute_result"
    }
   ],
   "source": [
    "b = df['Fine'].value_counts()\n",
    "\n",
    "idx = 0\n",
    "freq_sum = 0\n",
    "for i in b:\n",
    "    print('Distribution of label ', b.index[idx], ' is ', i/len(df))\n",
    "    idx += 1\n",
    "    freq_sum += i/len(df)\n",
    "freq_sum"
   ]
  },
  {
   "cell_type": "markdown",
   "metadata": {},
   "source": [
    "### 2. Distribution of the number of tokens per question - overall and per label. \n"
   ]
  },
  {
   "cell_type": "code",
   "execution_count": 9,
   "metadata": {},
   "outputs": [
    {
     "data": {
      "text/plain": [
       "5452"
      ]
     },
     "execution_count": 9,
     "metadata": {},
     "output_type": "execute_result"
    }
   ],
   "source": [
    "len(df['Question'].str.split())\n"
   ]
  },
  {
   "cell_type": "code",
   "execution_count": 10,
   "metadata": {
    "collapsed": true
   },
   "outputs": [
    {
     "data": {
      "text/plain": [
       "10 words:    0.107483\n",
       "11 words:    0.097395\n",
       "12 words:    0.086207\n",
       "13 words:    0.054292\n",
       "14 words:    0.036134\n",
       "15 words:    0.035400\n",
       "16 words:    0.026229\n",
       "17 words:    0.016875\n",
       "18 words:    0.014674\n",
       "19 words:    0.010638\n",
       "20 words:    0.005686\n",
       "21 words:    0.005686\n",
       "22 words:    0.003485\n",
       "23 words:    0.002018\n",
       "24 words:    0.002384\n",
       "25 words:    0.001467\n",
       "26 words:    0.000917\n",
       "27 words:    0.000183\n",
       "28 words:    0.000550\n",
       "29 words:    0.000734\n",
       "3 words:     0.000734\n",
       "30 words:    0.000183\n",
       "31 words:    0.000550\n",
       "32 words:    0.000367\n",
       "34 words:    0.000183\n",
       "37 words:    0.000183\n",
       "4 words:     0.024762\n",
       "5 words:     0.049156\n",
       "6 words:     0.072450\n",
       "7 words:     0.103815\n",
       "8 words:     0.115554\n",
       "9 words:     0.123624\n",
       "Name: Question, dtype: float64"
      ]
     },
     "execution_count": 10,
     "metadata": {},
     "output_type": "execute_result"
    }
   ],
   "source": [
    "# OVERALL\n",
    "\n",
    "token_per_question = df['Question'].str.split().apply(len).value_counts()\n",
    "token_per_question.index = token_per_question.index.astype(str) + ' words:'\n",
    "token_per_question.sort_index(inplace=True)\n",
    "token_per_question/len(df['Question'].str.split())\n"
   ]
  },
  {
   "cell_type": "code",
   "execution_count": 11,
   "metadata": {
    "collapsed": true
   },
   "outputs": [
    {
     "name": "stdout",
     "output_type": "stream",
     "text": [
      "ENTY \n",
      "\n",
      " 10 words:    0.027146\n",
      "11 words:    0.023844\n",
      "12 words:    0.021093\n",
      "13 words:    0.014674\n",
      "14 words:    0.009721\n",
      "15 words:    0.009354\n",
      "16 words:    0.007520\n",
      "17 words:    0.003118\n",
      "18 words:    0.004035\n",
      "19 words:    0.003302\n",
      "20 words:    0.001467\n",
      "21 words:    0.002018\n",
      "22 words:    0.000367\n",
      "23 words:    0.000550\n",
      "24 words:    0.000734\n",
      "26 words:    0.000183\n",
      "27 words:    0.000183\n",
      "28 words:    0.000183\n",
      "29 words:    0.000183\n",
      "30 words:    0.000183\n",
      "31 words:    0.000183\n",
      "5 words:     0.002751\n",
      "6 words:     0.012289\n",
      "7 words:     0.027146\n",
      "8 words:     0.025679\n",
      "9 words:     0.031365\n",
      "Name: Question, dtype: float64\n",
      "HUM \n",
      "\n",
      " 10 words:    0.022927\n",
      "11 words:    0.022010\n",
      "12 words:    0.021277\n",
      "13 words:    0.015224\n",
      "14 words:    0.010088\n",
      "15 words:    0.010271\n",
      "16 words:    0.007153\n",
      "17 words:    0.006236\n",
      "18 words:    0.005136\n",
      "19 words:    0.003668\n",
      "20 words:    0.002384\n",
      "21 words:    0.002568\n",
      "22 words:    0.002568\n",
      "23 words:    0.000550\n",
      "24 words:    0.000734\n",
      "25 words:    0.001101\n",
      "26 words:    0.000183\n",
      "28 words:    0.000183\n",
      "29 words:    0.000183\n",
      "3 words:     0.000183\n",
      "31 words:    0.000183\n",
      "32 words:    0.000367\n",
      "34 words:    0.000183\n",
      "4 words:     0.005686\n",
      "5 words:     0.009721\n",
      "6 words:     0.009721\n",
      "7 words:     0.019259\n",
      "8 words:     0.021093\n",
      "9 words:     0.023478\n",
      "Name: Question, dtype: float64\n",
      "DESC \n",
      "\n",
      " 10 words:    0.016141\n",
      "11 words:    0.018525\n",
      "12 words:    0.014123\n",
      "13 words:    0.006787\n",
      "14 words:    0.004585\n",
      "15 words:    0.003668\n",
      "16 words:    0.003485\n",
      "17 words:    0.002935\n",
      "18 words:    0.001101\n",
      "19 words:    0.001101\n",
      "20 words:    0.000550\n",
      "21 words:    0.000917\n",
      "22 words:    0.000367\n",
      "23 words:    0.000550\n",
      "24 words:    0.000367\n",
      "25 words:    0.000183\n",
      "26 words:    0.000183\n",
      "28 words:    0.000183\n",
      "3 words:     0.000550\n",
      "31 words:    0.000183\n",
      "37 words:    0.000183\n",
      "4 words:     0.015407\n",
      "5 words:     0.026045\n",
      "6 words:     0.025128\n",
      "7 words:     0.025128\n",
      "8 words:     0.020910\n",
      "9 words:     0.023844\n",
      "Name: Question, dtype: float64\n",
      "NUM \n",
      "\n",
      " 10 words:    0.019442\n",
      "11 words:    0.016508\n",
      "12 words:    0.017608\n",
      "13 words:    0.007704\n",
      "14 words:    0.006420\n",
      "15 words:    0.007337\n",
      "16 words:    0.003852\n",
      "17 words:    0.002935\n",
      "18 words:    0.002568\n",
      "19 words:    0.001101\n",
      "20 words:    0.000367\n",
      "22 words:    0.000183\n",
      "23 words:    0.000183\n",
      "24 words:    0.000367\n",
      "25 words:    0.000183\n",
      "26 words:    0.000367\n",
      "29 words:    0.000183\n",
      "5 words:     0.003485\n",
      "6 words:     0.010088\n",
      "7 words:     0.017241\n",
      "8 words:     0.022744\n",
      "9 words:     0.023478\n",
      "Name: Question, dtype: float64\n",
      "LOC \n",
      "\n",
      " 10 words:    0.021277\n",
      "11 words:    0.015591\n",
      "12 words:    0.011005\n",
      "13 words:    0.008621\n",
      "14 words:    0.005319\n",
      "15 words:    0.004402\n",
      "16 words:    0.004035\n",
      "17 words:    0.001651\n",
      "18 words:    0.001651\n",
      "19 words:    0.001467\n",
      "20 words:    0.000917\n",
      "21 words:    0.000183\n",
      "23 words:    0.000183\n",
      "24 words:    0.000183\n",
      "29 words:    0.000183\n",
      "4 words:     0.001651\n",
      "5 words:     0.006420\n",
      "6 words:     0.010822\n",
      "7 words:     0.013206\n",
      "8 words:     0.023478\n",
      "9 words:     0.020910\n",
      "Name: Question, dtype: float64\n",
      "ABBR \n",
      "\n",
      " 10 words:    0.000550\n",
      "11 words:    0.000917\n",
      "12 words:    0.001101\n",
      "13 words:    0.001284\n",
      "15 words:    0.000367\n",
      "16 words:    0.000183\n",
      "18 words:    0.000183\n",
      "4 words:     0.002018\n",
      "5 words:     0.000734\n",
      "6 words:     0.004402\n",
      "7 words:     0.001834\n",
      "8 words:     0.001651\n",
      "9 words:     0.000550\n",
      "Name: Question, dtype: float64\n"
     ]
    }
   ],
   "source": [
    "# PER LABEL - COARCE\n",
    "\n",
    "group = df.groupby('Coarce')\n",
    "summ = 0\n",
    "idx = 0\n",
    "for i in a.index: \n",
    "    label = group.get_group(a.index[idx])['Question'].str.split().apply(len).value_counts()\n",
    "    label.index = label.index.astype(str) + ' words:'\n",
    "    label.sort_index(inplace=True)\n",
    "    print(a.index[idx], '\\n\\n', label/len(df['Question'].str.split()))\n",
    "    idx += 1"
   ]
  },
  {
   "cell_type": "code",
   "execution_count": 13,
   "metadata": {
    "collapsed": true
   },
   "outputs": [
    {
     "name": "stdout",
     "output_type": "stream",
     "text": [
      "\n",
      " ind \n",
      "\n",
      " 10 words:    0.017792\n",
      "11 words:    0.018158\n",
      "12 words:    0.016508\n",
      "13 words:    0.012289\n",
      "14 words:    0.008804\n",
      "15 words:    0.006970\n",
      "16 words:    0.006787\n",
      "17 words:    0.005869\n",
      "18 words:    0.004585\n",
      "19 words:    0.003668\n",
      "20 words:    0.002018\n",
      "21 words:    0.002201\n",
      "22 words:    0.002018\n",
      "23 words:    0.000367\n",
      "24 words:    0.000734\n",
      "25 words:    0.001101\n",
      "26 words:    0.000183\n",
      "28 words:    0.000183\n",
      "29 words:    0.000183\n",
      "3 words:     0.000183\n",
      "31 words:    0.000183\n",
      "32 words:    0.000367\n",
      "34 words:    0.000183\n",
      "4 words:     0.003485\n",
      "5 words:     0.004402\n",
      "6 words:     0.007153\n",
      "7 words:     0.015224\n",
      "8 words:     0.016691\n",
      "9 words:     0.018158\n",
      "Name: Question, dtype: float64\n",
      "\n",
      " other \n",
      "\n",
      " 10 words:    0.015774\n",
      "11 words:    0.010455\n",
      "12 words:    0.011372\n",
      "13 words:    0.006420\n",
      "14 words:    0.004952\n",
      "15 words:    0.005136\n",
      "16 words:    0.003668\n",
      "17 words:    0.002384\n",
      "18 words:    0.001651\n",
      "19 words:    0.001284\n",
      "20 words:    0.001101\n",
      "21 words:    0.000183\n",
      "22 words:    0.000183\n",
      "23 words:    0.000183\n",
      "24 words:    0.000367\n",
      "27 words:    0.000183\n",
      "29 words:    0.000183\n",
      "4 words:     0.001651\n",
      "5 words:     0.006970\n",
      "6 words:     0.013573\n",
      "7 words:     0.012106\n",
      "8 words:     0.016508\n",
      "9 words:     0.018158\n",
      "Name: Question, dtype: float64\n",
      "\n",
      " def \n",
      "\n",
      " 10 words:    0.002384\n",
      "11 words:    0.000734\n",
      "12 words:    0.001651\n",
      "13 words:    0.000734\n",
      "14 words:    0.000183\n",
      "15 words:    0.000183\n",
      "16 words:    0.000734\n",
      "17 words:    0.000183\n",
      "3 words:     0.000367\n",
      "4 words:     0.013756\n",
      "5 words:     0.019993\n",
      "6 words:     0.013756\n",
      "7 words:     0.010455\n",
      "8 words:     0.006970\n",
      "9 words:     0.005136\n",
      "Name: Question, dtype: float64\n",
      "\n",
      " count \n",
      "\n",
      " 10 words:    0.010455\n",
      "11 words:    0.008254\n",
      "12 words:    0.006603\n",
      "13 words:    0.003852\n",
      "14 words:    0.003485\n",
      "15 words:    0.002018\n",
      "16 words:    0.001651\n",
      "17 words:    0.001467\n",
      "18 words:    0.000550\n",
      "19 words:    0.000734\n",
      "20 words:    0.000367\n",
      "22 words:    0.000183\n",
      "23 words:    0.000183\n",
      "24 words:    0.000183\n",
      "26 words:    0.000367\n",
      "5 words:     0.000183\n",
      "6 words:     0.001284\n",
      "7 words:     0.004952\n",
      "8 words:     0.009538\n",
      "9 words:     0.010271\n",
      "Name: Question, dtype: float64\n",
      "\n",
      " desc \n",
      "\n",
      " 10 words:    0.006053\n",
      "11 words:    0.008070\n",
      "12 words:    0.005503\n",
      "13 words:    0.003118\n",
      "14 words:    0.001284\n",
      "15 words:    0.001651\n",
      "16 words:    0.001467\n",
      "17 words:    0.000734\n",
      "18 words:    0.000367\n",
      "19 words:    0.000550\n",
      "20 words:    0.000183\n",
      "21 words:    0.000183\n",
      "23 words:    0.000183\n",
      "24 words:    0.000183\n",
      "28 words:    0.000183\n",
      "31 words:    0.000183\n",
      "4 words:     0.002018\n",
      "5 words:     0.006053\n",
      "6 words:     0.002201\n",
      "7 words:     0.004402\n",
      "8 words:     0.003852\n",
      "9 words:     0.010455\n",
      "Name: Question, dtype: float64\n",
      "\n",
      " manner \n",
      "\n",
      " 10 words:    0.004585\n",
      "11 words:    0.005686\n",
      "12 words:    0.003668\n",
      "13 words:    0.002201\n",
      "14 words:    0.001467\n",
      "15 words:    0.000734\n",
      "16 words:    0.000550\n",
      "17 words:    0.000917\n",
      "18 words:    0.000734\n",
      "19 words:    0.000367\n",
      "20 words:    0.000183\n",
      "21 words:    0.000734\n",
      "22 words:    0.000183\n",
      "25 words:    0.000183\n",
      "3 words:     0.000183\n",
      "5 words:     0.003302\n",
      "6 words:     0.006787\n",
      "7 words:     0.006420\n",
      "8 words:     0.006603\n",
      "9 words:     0.005136\n",
      "Name: Question, dtype: float64\n",
      "\n",
      " date \n",
      "\n",
      " 10 words:    0.003118\n",
      "11 words:    0.003118\n",
      "12 words:    0.002568\n",
      "13 words:    0.001651\n",
      "14 words:    0.000550\n",
      "15 words:    0.001834\n",
      "16 words:    0.000183\n",
      "18 words:    0.000183\n",
      "24 words:    0.000183\n",
      "25 words:    0.000183\n",
      "5 words:     0.002384\n",
      "6 words:     0.003852\n",
      "7 words:     0.005869\n",
      "8 words:     0.007704\n",
      "9 words:     0.006603\n",
      "Name: Question, dtype: float64\n",
      "\n",
      " cremat \n",
      "\n",
      " 10 words:    0.004402\n",
      "11 words:    0.004769\n",
      "12 words:    0.003852\n",
      "13 words:    0.002201\n",
      "14 words:    0.002751\n",
      "15 words:    0.002935\n",
      "16 words:    0.002201\n",
      "17 words:    0.000734\n",
      "18 words:    0.000734\n",
      "19 words:    0.000917\n",
      "20 words:    0.000183\n",
      "21 words:    0.000917\n",
      "23 words:    0.000183\n",
      "24 words:    0.000183\n",
      "26 words:    0.000183\n",
      "30 words:    0.000183\n",
      "6 words:     0.000734\n",
      "7 words:     0.003118\n",
      "8 words:     0.003302\n",
      "9 words:     0.003485\n",
      "Name: Question, dtype: float64\n",
      "\n",
      " reason \n",
      "\n",
      " 10 words:    0.003118\n",
      "11 words:    0.004219\n",
      "12 words:    0.003485\n",
      "13 words:    0.000734\n",
      "14 words:    0.001651\n",
      "15 words:    0.001101\n",
      "16 words:    0.000734\n",
      "17 words:    0.001101\n",
      "19 words:    0.000183\n",
      "20 words:    0.000183\n",
      "22 words:    0.000183\n",
      "23 words:    0.000367\n",
      "24 words:    0.000183\n",
      "26 words:    0.000183\n",
      "37 words:    0.000183\n",
      "4 words:     0.001651\n",
      "5 words:     0.001651\n",
      "6 words:     0.003118\n",
      "7 words:     0.004219\n",
      "8 words:     0.003668\n",
      "9 words:     0.003118\n",
      "Name: Question, dtype: float64\n",
      "\n",
      " gr \n",
      "\n",
      " 10 words:    0.004585\n",
      "11 words:    0.003302\n",
      "12 words:    0.004402\n",
      "13 words:    0.002568\n",
      "14 words:    0.000917\n",
      "15 words:    0.003118\n",
      "16 words:    0.000367\n",
      "17 words:    0.000367\n",
      "18 words:    0.000550\n",
      "20 words:    0.000367\n",
      "21 words:    0.000367\n",
      "22 words:    0.000550\n",
      "23 words:    0.000183\n",
      "4 words:     0.000183\n",
      "5 words:     0.000183\n",
      "6 words:     0.001467\n",
      "7 words:     0.002935\n",
      "8 words:     0.003485\n",
      "9 words:     0.004769\n",
      "Name: Question, dtype: float64\n",
      "\n",
      " country \n",
      "\n",
      " 10 words:    0.004585\n",
      "11 words:    0.004219\n",
      "12 words:    0.002018\n",
      "13 words:    0.002018\n",
      "14 words:    0.000734\n",
      "15 words:    0.000734\n",
      "16 words:    0.000734\n",
      "18 words:    0.000550\n",
      "20 words:    0.000367\n",
      "5 words:     0.000550\n",
      "6 words:     0.001284\n",
      "7 words:     0.001834\n",
      "8 words:     0.005686\n",
      "9 words:     0.003118\n",
      "Name: Question, dtype: float64\n",
      "\n",
      " city \n",
      "\n",
      " 10 words:    0.004402\n",
      "11 words:    0.003668\n",
      "12 words:    0.002384\n",
      "13 words:    0.001467\n",
      "14 words:    0.001284\n",
      "15 words:    0.000734\n",
      "16 words:    0.000734\n",
      "18 words:    0.000550\n",
      "19 words:    0.000367\n",
      "6 words:     0.000183\n",
      "7 words:     0.002751\n",
      "8 words:     0.002935\n",
      "9 words:     0.002201\n",
      "Name: Question, dtype: float64\n",
      "\n",
      " animal \n",
      "\n",
      " 10 words:    0.001834\n",
      "11 words:    0.002384\n",
      "12 words:    0.001834\n",
      "13 words:    0.002201\n",
      "14 words:    0.001284\n",
      "15 words:    0.000183\n",
      "16 words:    0.000734\n",
      "18 words:    0.000367\n",
      "19 words:    0.000367\n",
      "21 words:    0.000183\n",
      "5 words:     0.000183\n",
      "6 words:     0.001467\n",
      "7 words:     0.002018\n",
      "8 words:     0.002384\n",
      "9 words:     0.003118\n",
      "Name: Question, dtype: float64\n",
      "\n",
      " food \n",
      "\n",
      " 10 words:    0.002201\n",
      "11 words:    0.002384\n",
      "12 words:    0.001834\n",
      "13 words:    0.001284\n",
      "14 words:    0.000367\n",
      "15 words:    0.000550\n",
      "16 words:    0.000183\n",
      "17 words:    0.000367\n",
      "18 words:    0.000183\n",
      "19 words:    0.000550\n",
      "21 words:    0.000183\n",
      "5 words:     0.000917\n",
      "6 words:     0.001101\n",
      "7 words:     0.001467\n",
      "8 words:     0.002201\n",
      "9 words:     0.003118\n",
      "Name: Question, dtype: float64\n",
      "\n",
      " dismed \n",
      "\n",
      " 10 words:    0.000917\n",
      "11 words:    0.000734\n",
      "12 words:    0.000734\n",
      "13 words:    0.000183\n",
      "14 words:    0.000183\n",
      "16 words:    0.000367\n",
      "18 words:    0.000367\n",
      "20 words:    0.000367\n",
      "29 words:    0.000183\n",
      "31 words:    0.000183\n",
      "6 words:     0.000367\n",
      "7 words:     0.009171\n",
      "8 words:     0.002384\n",
      "9 words:     0.002751\n",
      "Name: Question, dtype: float64\n",
      "\n",
      " termeq \n",
      "\n",
      " 10 words:    0.002018\n",
      "11 words:    0.002018\n",
      "12 words:    0.001651\n",
      "13 words:    0.001101\n",
      "14 words:    0.001101\n",
      "15 words:    0.000550\n",
      "16 words:    0.000550\n",
      "17 words:    0.000367\n",
      "18 words:    0.000367\n",
      "19 words:    0.000183\n",
      "20 words:    0.000183\n",
      "23 words:    0.000183\n",
      "24 words:    0.000183\n",
      "5 words:     0.000183\n",
      "6 words:     0.000734\n",
      "7 words:     0.002018\n",
      "8 words:     0.001834\n",
      "9 words:     0.001834\n",
      "Name: Question, dtype: float64\n",
      "\n",
      " period \n",
      "\n",
      " 10 words:    0.001101\n",
      "11 words:    0.000550\n",
      "12 words:    0.001467\n",
      "13 words:    0.001101\n",
      "14 words:    0.001467\n",
      "15 words:    0.000734\n",
      "16 words:    0.000550\n",
      "17 words:    0.000550\n",
      "18 words:    0.000367\n",
      "6 words:     0.002018\n",
      "7 words:     0.001284\n",
      "8 words:     0.000550\n",
      "9 words:     0.002018\n",
      "Name: Question, dtype: float64\n",
      "\n",
      " money \n",
      "\n",
      " 10 words:    0.001651\n",
      "11 words:    0.001834\n",
      "12 words:    0.002751\n",
      "13 words:    0.000550\n",
      "14 words:    0.000183\n",
      "15 words:    0.000734\n",
      "16 words:    0.000917\n",
      "17 words:    0.000550\n",
      "18 words:    0.000183\n",
      "19 words:    0.000183\n",
      "29 words:    0.000183\n",
      "6 words:     0.000183\n",
      "7 words:     0.000734\n",
      "8 words:     0.000917\n",
      "9 words:     0.001467\n",
      "Name: Question, dtype: float64\n",
      "\n",
      " exp \n",
      "\n",
      " 10 words:    0.000367\n",
      "11 words:    0.000550\n",
      "12 words:    0.000734\n",
      "13 words:    0.000550\n",
      "15 words:    0.000367\n",
      "18 words:    0.000183\n",
      "4 words:     0.002018\n",
      "5 words:     0.000734\n",
      "6 words:     0.004402\n",
      "7 words:     0.001467\n",
      "8 words:     0.001101\n",
      "9 words:     0.000367\n",
      "Name: Question, dtype: float64\n",
      "\n",
      " state \n",
      "\n",
      " 10 words:    0.002018\n",
      "11 words:    0.001284\n",
      "12 words:    0.000734\n",
      "13 words:    0.000183\n",
      "14 words:    0.000183\n",
      "16 words:    0.000550\n",
      "17 words:    0.000183\n",
      "7 words:     0.001101\n",
      "8 words:     0.002935\n",
      "9 words:     0.002935\n",
      "Name: Question, dtype: float64\n",
      "\n",
      " sport \n",
      "\n",
      " 10 words:    0.002201\n",
      "11 words:    0.001284\n",
      "12 words:    0.000917\n",
      "13 words:    0.000734\n",
      "14 words:    0.000550\n",
      "15 words:    0.000734\n",
      "17 words:    0.000183\n",
      "18 words:    0.000367\n",
      "19 words:    0.000367\n",
      "24 words:    0.000183\n",
      "28 words:    0.000183\n",
      "6 words:     0.000183\n",
      "7 words:     0.000550\n",
      "8 words:     0.000917\n",
      "9 words:     0.002018\n",
      "Name: Question, dtype: float64\n",
      "\n",
      " event \n",
      "\n",
      " 10 words:    0.001651\n",
      "11 words:    0.000550\n",
      "12 words:    0.001101\n",
      "13 words:    0.001467\n",
      "14 words:    0.000367\n",
      "15 words:    0.000734\n",
      "16 words:    0.000550\n",
      "19 words:    0.000550\n",
      "23 words:    0.000183\n",
      "6 words:     0.000183\n",
      "7 words:     0.000550\n",
      "8 words:     0.000550\n",
      "9 words:     0.001834\n",
      "Name: Question, dtype: float64\n",
      "\n",
      " product \n",
      "\n",
      " 10 words:    0.001467\n",
      "11 words:    0.000917\n",
      "12 words:    0.000917\n",
      "13 words:    0.000367\n",
      "14 words:    0.000367\n",
      "16 words:    0.000734\n",
      "18 words:    0.000183\n",
      "21 words:    0.000183\n",
      "6 words:     0.000183\n",
      "7 words:     0.000550\n",
      "8 words:     0.000734\n",
      "9 words:     0.001101\n",
      "Name: Question, dtype: float64\n",
      "\n",
      " substance \n",
      "\n",
      " 10 words:    0.000550\n",
      "11 words:    0.000550\n",
      "12 words:    0.000367\n",
      "13 words:    0.000734\n",
      "14 words:    0.000183\n",
      "15 words:    0.000183\n",
      "20 words:    0.000183\n",
      "6 words:     0.001834\n",
      "7 words:     0.000917\n",
      "8 words:     0.001284\n",
      "9 words:     0.000734\n",
      "Name: Question, dtype: float64\n",
      "\n",
      " color \n",
      "\n",
      " 10 words:    0.000917\n",
      "11 words:    0.000917\n",
      "12 words:    0.000550\n",
      "13 words:    0.000550\n",
      "14 words:    0.000367\n",
      "18 words:    0.000367\n",
      "5 words:     0.000183\n",
      "6 words:     0.000917\n",
      "7 words:     0.000734\n",
      "8 words:     0.000367\n",
      "9 words:     0.001467\n",
      "Name: Question, dtype: float64\n",
      "\n",
      " techmeth \n",
      "\n",
      " 10 words:    0.000917\n",
      "11 words:    0.001284\n",
      "12 words:    0.000734\n",
      "13 words:    0.000550\n",
      "15 words:    0.000734\n",
      "16 words:    0.000183\n",
      "17 words:    0.000367\n",
      "18 words:    0.000367\n",
      "7 words:     0.000183\n",
      "8 words:     0.000917\n",
      "9 words:     0.000734\n",
      "Name: Question, dtype: float64\n",
      "\n",
      " dist \n",
      "\n",
      " 10 words:    0.000550\n",
      "11 words:    0.000183\n",
      "12 words:    0.000550\n",
      "13 words:    0.000183\n",
      "14 words:    0.000183\n",
      "18 words:    0.000183\n",
      "5 words:     0.000183\n",
      "6 words:     0.001651\n",
      "7 words:     0.000734\n",
      "8 words:     0.001467\n",
      "9 words:     0.000367\n",
      "Name: Question, dtype: float64\n",
      "\n",
      " veh \n",
      "\n",
      " 10 words:    0.000734\n",
      "11 words:    0.000550\n",
      "12 words:    0.000917\n",
      "13 words:    0.000367\n",
      "15 words:    0.000183\n",
      "16 words:    0.000367\n",
      "21 words:    0.000183\n",
      "6 words:     0.000183\n",
      "7 words:     0.000183\n",
      "8 words:     0.000550\n",
      "9 words:     0.000734\n",
      "Name: Question, dtype: float64\n",
      "\n",
      " perc \n",
      "\n",
      " 10 words:    0.000734\n",
      "11 words:    0.000734\n",
      "12 words:    0.000734\n",
      "14 words:    0.000183\n",
      "15 words:    0.000367\n",
      "16 words:    0.000183\n",
      "17 words:    0.000367\n",
      "18 words:    0.000734\n",
      "8 words:     0.000734\n",
      "9 words:     0.000183\n",
      "Name: Question, dtype: float64\n",
      "\n",
      " word \n",
      "\n",
      " 10 words:    0.000367\n",
      "11 words:    0.000550\n",
      "12 words:    0.000550\n",
      "13 words:    0.000183\n",
      "14 words:    0.000367\n",
      "15 words:    0.000367\n",
      "17 words:    0.000183\n",
      "19 words:    0.000183\n",
      "21 words:    0.000367\n",
      "7 words:     0.000734\n",
      "8 words:     0.000734\n",
      "9 words:     0.000183\n",
      "Name: Question, dtype: float64\n",
      "\n",
      " title \n",
      "\n",
      " 10 words:    0.000550\n",
      "11 words:    0.000367\n",
      "12 words:    0.000183\n",
      "13 words:    0.000367\n",
      "14 words:    0.000367\n",
      "15 words:    0.000183\n",
      "5 words:     0.000183\n",
      "6 words:     0.000367\n",
      "7 words:     0.000734\n",
      "8 words:     0.000734\n",
      "9 words:     0.000550\n",
      "Name: Question, dtype: float64\n",
      "\n",
      " mount \n",
      "\n",
      " 10 words:    0.000183\n",
      "11 words:    0.000550\n",
      "12 words:    0.000367\n",
      "13 words:    0.000917\n",
      "5 words:     0.000183\n",
      "6 words:     0.000183\n",
      "8 words:     0.000917\n",
      "9 words:     0.000550\n",
      "Name: Question, dtype: float64\n",
      "\n",
      " body \n",
      "\n",
      " 10 words:    0.000367\n",
      "11 words:    0.000183\n",
      "12 words:    0.000183\n",
      "22 words:    0.000183\n",
      "7 words:     0.000183\n",
      "8 words:     0.000550\n",
      "9 words:     0.001284\n",
      "Name: Question, dtype: float64\n",
      "\n",
      " abb \n",
      "\n"
     ]
    },
    {
     "name": "stdout",
     "output_type": "stream",
     "text": [
      " 10 words:    0.000183\n",
      "11 words:    0.000367\n",
      "12 words:    0.000367\n",
      "13 words:    0.000734\n",
      "16 words:    0.000183\n",
      "7 words:     0.000367\n",
      "8 words:     0.000550\n",
      "9 words:     0.000183\n",
      "Name: Question, dtype: float64\n",
      "\n",
      " lang \n",
      "\n",
      " 10 words:    0.000183\n",
      "11 words:    0.000550\n",
      "12 words:    0.000367\n",
      "13 words:    0.000183\n",
      "5 words:     0.000367\n",
      "7 words:     0.000183\n",
      "8 words:     0.000550\n",
      "9 words:     0.000550\n",
      "Name: Question, dtype: float64\n",
      "\n",
      " volsize \n",
      "\n",
      " 11 words:    0.000183\n",
      "19 words:    0.000183\n",
      "5 words:     0.000183\n",
      "6 words:     0.000183\n",
      "7 words:     0.000917\n",
      "8 words:     0.000367\n",
      "9 words:     0.000367\n",
      "Name: Question, dtype: float64\n",
      "\n",
      " plant \n",
      "\n",
      " 10 words:    0.000367\n",
      "12 words:    0.000183\n",
      "15 words:    0.000183\n",
      "16 words:    0.000183\n",
      "7 words:     0.000550\n",
      "8 words:     0.000550\n",
      "9 words:     0.000367\n",
      "Name: Question, dtype: float64\n",
      "\n",
      " symbol \n",
      "\n",
      " 10 words:    0.000367\n",
      "11 words:    0.000367\n",
      "12 words:    0.000367\n",
      "13 words:    0.000183\n",
      "6 words:     0.000183\n",
      "8 words:     0.000367\n",
      "9 words:     0.000183\n",
      "Name: Question, dtype: float64\n",
      "\n",
      " weight \n",
      "\n",
      " 12 words:    0.000183\n",
      "14 words:    0.000367\n",
      "15 words:    0.000183\n",
      "16 words:    0.000183\n",
      "7 words:     0.000550\n",
      "9 words:     0.000550\n",
      "Name: Question, dtype: float64\n",
      "\n",
      " instru \n",
      "\n",
      " 10 words:    0.000550\n",
      "15 words:    0.000367\n",
      "6 words:     0.000183\n",
      "7 words:     0.000367\n",
      "8 words:     0.000183\n",
      "9 words:     0.000183\n",
      "Name: Question, dtype: float64\n",
      "\n",
      " speed \n",
      "\n",
      " 12 words:    0.000183\n",
      "5 words:     0.000183\n",
      "6 words:     0.000183\n",
      "7 words:     0.000367\n",
      "8 words:     0.000183\n",
      "9 words:     0.000550\n",
      "Name: Question, dtype: float64\n",
      "\n",
      " code \n",
      "\n",
      " 10 words:    0.000183\n",
      "11 words:    0.000183\n",
      "12 words:    0.000183\n",
      "15 words:    0.000550\n",
      "8 words:     0.000550\n",
      "Name: Question, dtype: float64\n",
      "\n",
      " letter \n",
      "\n",
      " 10 words:    0.000367\n",
      "11 words:    0.000183\n",
      "12 words:    0.000183\n",
      "13 words:    0.000183\n",
      "7 words:     0.000183\n",
      "8 words:     0.000367\n",
      "9 words:     0.000183\n",
      "Name: Question, dtype: float64\n",
      "\n",
      " temp \n",
      "\n",
      " 10 words:    0.000367\n",
      "11 words:    0.000183\n",
      "12 words:    0.000367\n",
      "13 words:    0.000183\n",
      "6 words:     0.000183\n",
      "7 words:     0.000183\n",
      "Name: Question, dtype: float64\n",
      "\n",
      " ord \n",
      "\n",
      " 10 words:    0.000367\n",
      "11 words:    0.000367\n",
      "15 words:    0.000367\n",
      "Name: Question, dtype: float64\n",
      "\n",
      " religion \n",
      "\n",
      " 7 words:    0.000183\n",
      "8 words:    0.000183\n",
      "9 words:    0.000367\n",
      "Name: Question, dtype: float64\n",
      "\n",
      " currency \n",
      "\n",
      " 6 words:    0.000183\n",
      "7 words:    0.000367\n",
      "9 words:    0.000183\n",
      "Name: Question, dtype: float64\n"
     ]
    }
   ],
   "source": [
    "# PER LABEL - FINE\n",
    "\n",
    "label2 = df.groupby('Fine')\n",
    "\n",
    "idx = 0\n",
    "for i in b.index: \n",
    "    label = label2.get_group(b.index[idx])['Question'].str.split().apply(len).value_counts()\n",
    "    label.index = label.index.astype(str) + ' words:'\n",
    "    label.sort_index(inplace=True)\n",
    "    print('\\n', b.index[idx], '\\n\\n', label/len(df['Question'].str.split()))\n",
    "    idx += 1"
   ]
  },
  {
   "cell_type": "markdown",
   "metadata": {},
   "source": [
    "### 3. Vocabulary size and number of tokens overall and per label."
   ]
  },
  {
   "cell_type": "code",
   "execution_count": 14,
   "metadata": {},
   "outputs": [
    {
     "data": {
      "text/plain": [
       "9449"
      ]
     },
     "execution_count": 14,
     "metadata": {},
     "output_type": "execute_result"
    }
   ],
   "source": [
    "# OVERALL\n",
    "\n",
    "rows=df['Question']\n",
    "tokens = Counter(\" \".join(rows).split(' ')).items()\n",
    "len(tokens)"
   ]
  },
  {
   "cell_type": "code",
   "execution_count": 15,
   "metadata": {},
   "outputs": [
    {
     "name": "stdout",
     "output_type": "stream",
     "text": [
      "Vocabulary for Coarce Label  ENTY :  3513\n",
      "Vocabulary for Coarce Label  HUM :  3568\n",
      "Vocabulary for Coarce Label  DESC :  2702\n",
      "Vocabulary for Coarce Label  NUM :  2184\n",
      "Vocabulary for Coarce Label  LOC :  2068\n",
      "Vocabulary for Coarce Label  ABBR :  175\n"
     ]
    }
   ],
   "source": [
    "# PER LABEL - COARCE\n",
    "\n",
    "idx = 0\n",
    "for i in a.index: \n",
    "    label = group.get_group(a.index[idx])['Question']\n",
    "    tokens = Counter(\" \".join(label).split(' ')).items()\n",
    "    print('Vocabulary for Coarce Label ',a.index[idx] ,': ',  len(tokens))\n",
    "    idx += 1"
   ]
  },
  {
   "cell_type": "code",
   "execution_count": 16,
   "metadata": {
    "collapsed": true
   },
   "outputs": [
    {
     "name": "stdout",
     "output_type": "stream",
     "text": [
      "Vocabulary for Fine Label  ind :  3061\n",
      "Vocabulary for Fine Label  other :  2172\n",
      "Vocabulary for Fine Label  def :  795\n",
      "Vocabulary for Fine Label  count :  1156\n",
      "Vocabulary for Fine Label  desc :  1023\n",
      "Vocabulary for Fine Label  manner :  852\n",
      "Vocabulary for Fine Label  date :  638\n",
      "Vocabulary for Fine Label  cremat :  915\n",
      "Vocabulary for Fine Label  reason :  702\n",
      "Vocabulary for Fine Label  gr :  768\n",
      "Vocabulary for Fine Label  country :  549\n",
      "Vocabulary for Fine Label  city :  425\n",
      "Vocabulary for Fine Label  animal :  411\n",
      "Vocabulary for Fine Label  food :  426\n",
      "Vocabulary for Fine Label  dismed :  269\n",
      "Vocabulary for Fine Label  termeq :  344\n",
      "Vocabulary for Fine Label  period :  286\n",
      "Vocabulary for Fine Label  money :  247\n",
      "Vocabulary for Fine Label  exp :  135\n",
      "Vocabulary for Fine Label  state :  244\n",
      "Vocabulary for Fine Label  sport :  324\n",
      "Vocabulary for Fine Label  event :  286\n",
      "Vocabulary for Fine Label  product :  205\n",
      "Vocabulary for Fine Label  substance :  155\n",
      "Vocabulary for Fine Label  color :  172\n",
      "Vocabulary for Fine Label  techmeth :  210\n",
      "Vocabulary for Fine Label  dist :  119\n",
      "Vocabulary for Fine Label  veh :  149\n",
      "Vocabulary for Fine Label  perc :  131\n",
      "Vocabulary for Fine Label  word :  123\n",
      "Vocabulary for Fine Label  title :  104\n",
      "Vocabulary for Fine Label  mount :  76\n",
      "Vocabulary for Fine Label  body :  83\n",
      "Vocabulary for Fine Label  abb :  62\n",
      "Vocabulary for Fine Label  lang :  53\n",
      "Vocabulary for Fine Label  volsize :  49\n",
      "Vocabulary for Fine Label  plant :  70\n",
      "Vocabulary for Fine Label  symbol :  52\n",
      "Vocabulary for Fine Label  weight :  45\n",
      "Vocabulary for Fine Label  instru :  45\n",
      "Vocabulary for Fine Label  speed :  32\n",
      "Vocabulary for Fine Label  code :  36\n",
      "Vocabulary for Fine Label  letter :  50\n",
      "Vocabulary for Fine Label  temp :  36\n",
      "Vocabulary for Fine Label  ord :  28\n",
      "Vocabulary for Fine Label  religion :  27\n",
      "Vocabulary for Fine Label  currency :  16\n"
     ]
    }
   ],
   "source": [
    "idx = 0\n",
    "for i in b.index: \n",
    "    label = label2.get_group(b.index[idx])['Question']\n",
    "    tokens = Counter(\" \".join(label).split(' ')).items()\n",
    "    print('Vocabulary for Fine Label ',b.index[idx] ,': ',  len(tokens))\n",
    "    idx += 1"
   ]
  },
  {
   "cell_type": "markdown",
   "metadata": {},
   "source": [
    "### 4. Top 10 more frequent words overall and per label "
   ]
  },
  {
   "cell_type": "code",
   "execution_count": 17,
   "metadata": {},
   "outputs": [
    {
     "data": {
      "text/plain": [
       "[('?', 5350),\n",
       " ('the', 3611),\n",
       " ('What', 3246),\n",
       " ('is', 1679),\n",
       " ('of', 1546),\n",
       " ('in', 1133),\n",
       " ('a', 1010),\n",
       " ('How', 764),\n",
       " (\"'s\", 720),\n",
       " ('was', 652)]"
      ]
     },
     "execution_count": 17,
     "metadata": {},
     "output_type": "execute_result"
    }
   ],
   "source": [
    "# OVERALL\n",
    "\n",
    "Counter(\" \".join(df['Question']).split()).most_common(10)"
   ]
  },
  {
   "cell_type": "code",
   "execution_count": 18,
   "metadata": {},
   "outputs": [
    {
     "data": {
      "text/plain": [
       "[('?', 1216),\n",
       " ('What', 1112),\n",
       " ('the', 844),\n",
       " ('of', 452),\n",
       " ('is', 400),\n",
       " ('a', 307),\n",
       " ('in', 283),\n",
       " (\"'s\", 206),\n",
       " (',', 173),\n",
       " ('to', 158)]"
      ]
     },
     "execution_count": 18,
     "metadata": {},
     "output_type": "execute_result"
    }
   ],
   "source": [
    "# PER LABEL - COARCE\n",
    "\n",
    "idx = 0\n",
    "for i in a.index: \n",
    "    label = group.get_group(a.index[idx])['Question']\n",
    "    tokens = Counter(\" \".join(label).split()).most_common(10)\n",
    "tokens"
   ]
  },
  {
   "cell_type": "code",
   "execution_count": 19,
   "metadata": {},
   "outputs": [
    {
     "data": {
      "text/plain": [
       "[('?', 930),\n",
       " ('the', 783),\n",
       " ('Who', 498),\n",
       " ('What', 374),\n",
       " ('of', 330),\n",
       " ('was', 242),\n",
       " ('in', 236),\n",
       " (\"'s\", 190),\n",
       " ('is', 162),\n",
       " ('to', 136)]"
      ]
     },
     "execution_count": 19,
     "metadata": {},
     "output_type": "execute_result"
    }
   ],
   "source": [
    "# PER LABEL - FINE\n",
    "\n",
    "idx = 0\n",
    "for i in b.index: \n",
    "    label = label2.get_group(b.index[idx])['Question']\n",
    "    tokens = Counter(\" \".join(label).split()).most_common(10)\n",
    "tokens"
   ]
  },
  {
   "cell_type": "markdown",
   "metadata": {},
   "source": [
    "### 5. Number of words occurring 1,2,3,4 and 5 times "
   ]
  },
  {
   "cell_type": "code",
   "execution_count": 20,
   "metadata": {},
   "outputs": [
    {
     "name": "stdout",
     "output_type": "stream",
     "text": [
      "Number of words occurring 1 time(s) : 5853\n",
      "Number of words occurring 2 time(s) : 1388\n",
      "Number of words occurring 3 time(s) : 656\n",
      "Number of words occurring 4 time(s) : 373\n",
      "Number of words occurring 5 time(s) : 249\n"
     ]
    }
   ],
   "source": [
    "distc = Counter(\" \".join(df['Question']).split())\n",
    "\n",
    "for i in range(1,6):\n",
    "    print('Number of words occurring', i, 'time(s) :', sum(float(num) == i for num in distc.values()))"
   ]
  },
  {
   "cell_type": "markdown",
   "metadata": {},
   "source": [
    "## Q1.3 Baseline classifier\n"
   ]
  },
  {
   "cell_type": "markdown",
   "metadata": {},
   "source": [
    "#### Implement a baseline classifier for the 6 coarse labels using the heuristics described in the paper (of the form – If a query starts with Who or Whom: type Human)."
   ]
  },
  {
   "cell_type": "code",
   "execution_count": 21,
   "metadata": {
    "collapsed": true
   },
   "outputs": [],
   "source": [
    "def baseline_classifier(questions):\n",
    "\n",
    "    label = []\n",
    "    \n",
    "    for i in questions:\n",
    "\n",
    "        i = i.lower()\n",
    "\n",
    "        if i.split()[0] == 'who' or i.split()[0] == 'whom' or i.split()[0] == 'whose' or 'whom' in i or 'who' in i:\n",
    "            label.append('HUM')\n",
    "        elif i.split()[0] == 'wow' or i.split()[0] == 'why' or 'reason' in i or 'why' in i or 'name' in i or 'names' in i or 'how' in i or i.split()[0] == 'describe' or i.split()[0] == 'define':\n",
    "            label.append('DESC')\n",
    "        elif i.split()[0] == 'where' or 'city' in i or 'country' in i or 'where' in i:\n",
    "            label.append('LOC')\n",
    "        elif i.split()[0] == 'when' or i.split()[0:2] == 'how many' or 'how many' in i or 'how much' in i or 'how long' in i or 'how old' in i:\n",
    "            label.append('NUM')\n",
    "        elif 'what' in i or 'which' in i:\n",
    "            label.append('ENTY')\n",
    "        elif i.split()[0] == 'what' or i.split()[0] == 'name' or i.split()[0] == 'which':\n",
    "            if 'abbreviation' in i or 'short for' in i or 'stand for' in i:\n",
    "                label.append('ABBR')\n",
    "            else:\n",
    "                label.append('ENTY')\n",
    "        else:\n",
    "            label.append('Other')\n",
    "\n",
    "    return label"
   ]
  },
  {
   "cell_type": "code",
   "execution_count": 22,
   "metadata": {},
   "outputs": [
    {
     "data": {
      "text/plain": [
       "['DESC', 'NUM', 'LOC']"
      ]
     },
     "execution_count": 22,
     "metadata": {},
     "output_type": "execute_result"
    }
   ],
   "source": [
    "baseline_classifier(['Why is the sky blue ?', 'When is the first day of summer ?', 'Where is the lowest point on earth ?'])"
   ]
  },
  {
   "cell_type": "markdown",
   "metadata": {},
   "source": [
    "#### Report on the accuracy, precision, recall, and F1 measure for all the coarse labels, and provide the confusion matrix for the 6 coarse labels."
   ]
  },
  {
   "cell_type": "code",
   "execution_count": 23,
   "metadata": {
    "collapsed": true
   },
   "outputs": [],
   "source": [
    "from sklearn.metrics import *"
   ]
  },
  {
   "cell_type": "code",
   "execution_count": 24,
   "metadata": {
    "collapsed": true
   },
   "outputs": [],
   "source": [
    "def plot_confusion_matrix(cm, classes,\n",
    "                          title,\n",
    "                          cmap=plt.cm.Blues):\n",
    "\n",
    "    plt.imshow(cm, interpolation='nearest', cmap=cmap)\n",
    "    plt.title(title)\n",
    "    plt.colorbar()\n",
    "    tick_marks = np.arange(len(classes))\n",
    "    plt.xticks(tick_marks, classes, rotation=45)\n",
    "    plt.yticks(tick_marks, classes)\n",
    "\n",
    "    thresh = cm.max() / 2.\n",
    "    for i, j in itertools.product(range(cm.shape[0]), range(cm.shape[1])):\n",
    "        plt.text(j, i, cm[i, j],\n",
    "                 horizontalalignment=\"center\",\n",
    "                 color=\"white\" if cm[i, j] > thresh else \"black\")\n",
    "\n",
    "    plt.tight_layout()\n",
    "    plt.ylabel('True label')\n",
    "    plt.xlabel('Predicted label')"
   ]
  },
  {
   "cell_type": "code",
   "execution_count": 25,
   "metadata": {
    "collapsed": true
   },
   "outputs": [],
   "source": [
    "text = df['Question']\n",
    "target = df['Coarce']\n",
    "text_test = df_test['Question']\n",
    "target_test = df_test['Coarce']"
   ]
  },
  {
   "cell_type": "code",
   "execution_count": 26,
   "metadata": {
    "scrolled": true
   },
   "outputs": [
    {
     "name": "stdout",
     "output_type": "stream",
     "text": [
      "             precision    recall  f1-score   support\n",
      "\n",
      "       ABBR       0.00      0.00      0.00         9\n",
      "       DESC       0.10      0.04      0.06       138\n",
      "       ENTY       0.25      0.86      0.38        94\n",
      "        HUM       1.00      0.72      0.84        65\n",
      "        LOC       1.00      0.48      0.65        81\n",
      "        NUM       1.00      0.23      0.37       113\n",
      "\n",
      "avg / total       0.59      0.40      0.39       500\n",
      "\n"
     ]
    },
    {
     "name": "stderr",
     "output_type": "stream",
     "text": [
      "/Library/Frameworks/Python.framework/Versions/3.6/lib/python3.6/site-packages/sklearn/metrics/classification.py:1113: UndefinedMetricWarning: Precision and F-score are ill-defined and being set to 0.0 in labels with no predicted samples.\n",
      "  'precision', 'predicted', average, warn_for)\n"
     ]
    }
   ],
   "source": [
    "print(classification_report(target_test, baseline_classifier(text_test)))"
   ]
  },
  {
   "cell_type": "code",
   "execution_count": 27,
   "metadata": {},
   "outputs": [
    {
     "data": {
      "image/png": "[encoded data removed]",
      "text/plain": [
       "<matplotlib.figure.Figure at 0x118b00eb8>"
      ]
     },
     "metadata": {},
     "output_type": "display_data"
    }
   ],
   "source": [
    "C = confusion_matrix(target_test, baseline_classifier(text_test))\n",
    "labels=[\"ENTY\", \"HUM\", \"NUM\", \"LOC\", \"ABBR\", \"DESC\"]\n",
    "plt.figure()\n",
    "plot_confusion_matrix(C, labels,\n",
    "                      title='Confusion matrix - Baseline Classifier')\n",
    "plt.show()"
   ]
  },
  {
   "cell_type": "markdown",
   "metadata": {},
   "source": [
    "#### Analyze the errors by listing types of errors (false positives and false negatives for each of the 6 labels).\n"
   ]
  },
  {
   "cell_type": "code",
   "execution_count": 28,
   "metadata": {
    "collapsed": true
   },
   "outputs": [],
   "source": [
    "# TO DO"
   ]
  },
  {
   "cell_type": "code",
   "execution_count": 29,
   "metadata": {},
   "outputs": [
    {
     "name": "stdout",
     "output_type": "stream",
     "text": [
      "Class  ENTY \n",
      "\n",
      "FP =  0\n",
      "FN =  9\n",
      "\n",
      "\n",
      "Class  HUM \n",
      "\n",
      "FP =  54\n",
      "FN =  132\n",
      "\n",
      "\n",
      "Class  NUM \n",
      "\n",
      "FP =  247\n",
      "FN =  13\n",
      "\n",
      "\n",
      "Class  LOC \n",
      "\n",
      "FP =  0\n",
      "FN =  18\n",
      "\n",
      "\n",
      "Class  ABBR \n",
      "\n",
      "FP =  0\n",
      "FN =  42\n",
      "\n",
      "\n",
      "Class  DESC \n",
      "\n",
      "FP =  0\n",
      "FN =  87\n",
      "\n",
      "\n"
     ]
    }
   ],
   "source": [
    "labels=[\"ENTY\", \"HUM\", \"NUM\", \"LOC\", \"ABBR\", \"DESC\"]\n",
    "C = confusion_matrix(target_test, baseline_classifier(text_test))\n",
    "\n",
    "for i in range(0, len(labels)):\n",
    "    print('Class ', labels[i], '\\n')\n",
    "    print('FP = ', np.sum(C, axis=0)[i] - C[i, i])\n",
    "    print('FN = ', np.sum(C, axis=1)[i] - C[i, i])\n",
    "    print('\\n')"
   ]
  },
  {
   "cell_type": "markdown",
   "metadata": {},
   "source": [
    "## Q1.4 Features-based classifier"
   ]
  },
  {
   "cell_type": "markdown",
   "metadata": {},
   "source": [
    "### 1.4.1 Discuss a priori what are good ways to encode these features (lemma, POS, NER, chunk, related words) - provide examples that explain your intuition."
   ]
  },
  {
   "cell_type": "code",
   "execution_count": 30,
   "metadata": {
    "collapsed": true
   },
   "outputs": [],
   "source": [
    "# TO DO"
   ]
  },
  {
   "cell_type": "markdown",
   "metadata": {},
   "source": [
    "### 1.4.2 Train a scikit-learn based classifier for:"
   ]
  },
  {
   "cell_type": "markdown",
   "metadata": {},
   "source": [
    "### 1. Coarse labels"
   ]
  },
  {
   "cell_type": "code",
   "execution_count": 31,
   "metadata": {
    "collapsed": true
   },
   "outputs": [],
   "source": [
    "from sklearn.feature_extraction.text import CountVectorizer, TfidfVectorizer, TfidfTransformer\n",
    "from sklearn import svm\n",
    "\n",
    "text = df['Question']\n",
    "target = df['Coarce']\n",
    "text_test = df_test['Question']\n",
    "target_test = df_test['Coarce']"
   ]
  },
  {
   "cell_type": "code",
   "execution_count": 32,
   "metadata": {},
   "outputs": [
    {
     "data": {
      "text/plain": [
       "((5452, 8411), (5452, 8411))"
      ]
     },
     "execution_count": 32,
     "metadata": {},
     "output_type": "execute_result"
    }
   ],
   "source": [
    "cnt_vec = CountVectorizer()\n",
    "X_cnt_text = cnt_vec.fit_transform(text)\n",
    "\n",
    "tf_transfo = TfidfTransformer()\n",
    "X_tf_text = tf_transfo.fit_transform(X_cnt_text)\n",
    "X_cnt_text.shape, X_tf_text.shape"
   ]
  },
  {
   "cell_type": "code",
   "execution_count": 33,
   "metadata": {
    "collapsed": true
   },
   "outputs": [
    {
     "data": {
      "text/plain": [
       "array(['NUM', 'LOC', 'HUM', 'DESC', 'NUM', 'NUM', 'HUM', 'DESC', 'DESC',\n",
       "       'DESC', 'LOC', 'DESC', 'NUM', 'HUM', 'NUM', 'NUM', 'LOC', 'HUM',\n",
       "       'DESC', 'NUM', 'HUM', 'DESC', 'LOC', 'DESC', 'DESC', 'HUM', 'DESC',\n",
       "       'DESC', 'LOC', 'ENTY', 'NUM', 'LOC', 'DESC', 'NUM', 'NUM', 'NUM',\n",
       "       'LOC', 'NUM', 'NUM', 'NUM', 'ENTY', 'DESC', 'DESC', 'DESC', 'ENTY',\n",
       "       'ENTY', 'NUM', 'DESC', 'NUM', 'HUM', 'DESC', 'HUM', 'HUM', 'DESC',\n",
       "       'DESC', 'DESC', 'NUM', 'LOC', 'LOC', 'DESC', 'LOC', 'HUM', 'LOC',\n",
       "       'ENTY', 'LOC', 'HUM', 'ENTY', 'DESC', 'NUM', 'LOC', 'NUM', 'NUM',\n",
       "       'LOC', 'HUM', 'LOC', 'DESC', 'ENTY', 'NUM', 'NUM', 'HUM', 'DESC',\n",
       "       'NUM', 'HUM', 'NUM', 'NUM', 'DESC', 'DESC', 'HUM', 'DESC', 'LOC',\n",
       "       'ENTY', 'DESC', 'NUM', 'NUM', 'LOC', 'LOC', 'NUM', 'DESC', 'DESC',\n",
       "       'HUM', 'DESC', 'HUM', 'DESC', 'HUM', 'LOC', 'DESC', 'NUM', 'ENTY',\n",
       "       'NUM', 'LOC', 'DESC', 'DESC', 'LOC', 'ENTY', 'LOC', 'HUM', 'NUM',\n",
       "       'ENTY', 'NUM', 'LOC', 'NUM', 'ENTY', 'DESC', 'HUM', 'DESC', 'HUM',\n",
       "       'DESC', 'ENTY', 'DESC', 'NUM', 'NUM', 'HUM', 'DESC', 'ENTY', 'DESC',\n",
       "       'DESC', 'LOC', 'HUM', 'HUM', 'DESC', 'DESC', 'ENTY', 'LOC', 'ENTY',\n",
       "       'DESC', 'ENTY', 'HUM', 'ENTY', 'DESC', 'DESC', 'ENTY', 'HUM',\n",
       "       'DESC', 'NUM', 'HUM', 'LOC', 'LOC', 'DESC', 'ENTY', 'LOC', 'DESC',\n",
       "       'DESC', 'NUM', 'LOC', 'ENTY', 'ENTY', 'NUM', 'DESC', 'NUM', 'HUM',\n",
       "       'NUM', 'NUM', 'NUM', 'DESC', 'LOC', 'DESC', 'LOC', 'NUM', 'ENTY',\n",
       "       'NUM', 'ENTY', 'DESC', 'LOC', 'DESC', 'DESC', 'HUM', 'ENTY', 'DESC',\n",
       "       'LOC', 'DESC', 'DESC', 'LOC', 'NUM', 'NUM', 'DESC', 'LOC', 'ENTY',\n",
       "       'HUM', 'ENTY', 'ENTY', 'ENTY', 'LOC', 'HUM', 'ENTY', 'DESC', 'LOC',\n",
       "       'HUM', 'NUM', 'DESC', 'DESC', 'NUM', 'NUM', 'DESC', 'LOC', 'DESC',\n",
       "       'ENTY', 'DESC', 'ENTY', 'NUM', 'DESC', 'DESC', 'NUM', 'ABBR',\n",
       "       'DESC', 'LOC', 'ENTY', 'NUM', 'DESC', 'LOC', 'HUM', 'NUM', 'HUM',\n",
       "       'DESC', 'NUM', 'ENTY', 'DESC', 'LOC', 'DESC', 'LOC', 'NUM', 'ENTY',\n",
       "       'DESC', 'DESC', 'DESC', 'DESC', 'LOC', 'DESC', 'DESC', 'DESC',\n",
       "       'ENTY', 'HUM', 'DESC', 'ENTY', 'ENTY', 'DESC', 'DESC', 'LOC',\n",
       "       'ENTY', 'DESC', 'DESC', 'HUM', 'HUM', 'NUM', 'ENTY', 'NUM', 'ABBR',\n",
       "       'DESC', 'LOC', 'NUM', 'DESC', 'ENTY', 'DESC', 'DESC', 'HUM', 'DESC',\n",
       "       'ENTY', 'DESC', 'NUM', 'ABBR', 'ENTY', 'LOC', 'HUM', 'ABBR', 'DESC',\n",
       "       'LOC', 'DESC', 'DESC', 'DESC', 'DESC', 'DESC', 'LOC', 'DESC', 'NUM',\n",
       "       'ENTY', 'DESC', 'DESC', 'DESC', 'DESC', 'ENTY', 'ENTY', 'ABBR',\n",
       "       'NUM', 'DESC', 'NUM', 'NUM', 'LOC', 'HUM', 'LOC', 'HUM', 'NUM',\n",
       "       'LOC', 'LOC', 'NUM', 'DESC', 'LOC', 'DESC', 'HUM', 'LOC', 'ENTY',\n",
       "       'LOC', 'DESC', 'NUM', 'DESC', 'ENTY', 'NUM', 'DESC', 'DESC', 'DESC',\n",
       "       'NUM', 'DESC', 'DESC', 'NUM', 'ENTY', 'ENTY', 'DESC', 'LOC', 'DESC',\n",
       "       'ENTY', 'DESC', 'NUM', 'NUM', 'HUM', 'NUM', 'HUM', 'NUM', 'HUM',\n",
       "       'HUM', 'DESC', 'NUM', 'DESC', 'NUM', 'LOC', 'LOC', 'ENTY', 'DESC',\n",
       "       'HUM', 'DESC', 'DESC', 'DESC', 'ENTY', 'DESC', 'ABBR', 'ENTY',\n",
       "       'NUM', 'DESC', 'DESC', 'ENTY', 'ENTY', 'DESC', 'LOC', 'NUM', 'ENTY',\n",
       "       'DESC', 'DESC', 'HUM', 'NUM', 'LOC', 'DESC', 'ABBR', 'DESC', 'HUM',\n",
       "       'HUM', 'DESC', 'HUM', 'NUM', 'NUM', 'DESC', 'HUM', 'DESC', 'DESC',\n",
       "       'HUM', 'DESC', 'ENTY', 'NUM', 'DESC', 'DESC', 'DESC', 'NUM', 'NUM',\n",
       "       'LOC', 'DESC', 'DESC', 'NUM', 'ABBR', 'NUM', 'LOC', 'DESC', 'LOC',\n",
       "       'NUM', 'DESC', 'HUM', 'ENTY', 'LOC', 'ABBR', 'LOC', 'DESC', 'DESC',\n",
       "       'DESC', 'HUM', 'HUM', 'NUM', 'ENTY', 'HUM', 'DESC', 'LOC', 'ENTY',\n",
       "       'DESC', 'LOC', 'DESC', 'HUM', 'DESC', 'ENTY', 'LOC', 'HUM', 'DESC',\n",
       "       'DESC', 'DESC', 'NUM', 'ABBR', 'ENTY', 'HUM', 'DESC', 'LOC', 'DESC',\n",
       "       'HUM', 'ENTY', 'LOC', 'HUM', 'NUM', 'ENTY', 'ENTY', 'ENTY', 'ENTY',\n",
       "       'NUM', 'NUM', 'NUM', 'ENTY', 'LOC', 'DESC', 'DESC', 'ENTY', 'ENTY',\n",
       "       'LOC', 'DESC', 'LOC', 'ENTY', 'DESC', 'ENTY', 'DESC', 'DESC',\n",
       "       'DESC', 'DESC', 'ENTY', 'NUM', 'ENTY', 'ENTY', 'DESC', 'LOC',\n",
       "       'ENTY', 'LOC', 'ENTY', 'DESC', 'ENTY', 'DESC', 'LOC', 'DESC', 'LOC',\n",
       "       'NUM', 'ENTY', 'ENTY', 'DESC', 'DESC', 'ENTY', 'NUM', 'NUM', 'HUM',\n",
       "       'ENTY', 'NUM', 'ENTY', 'DESC'], dtype=object)"
      ]
     },
     "execution_count": 33,
     "metadata": {},
     "output_type": "execute_result"
    }
   ],
   "source": [
    "clf = svm.SVC(C=6.0, gamma=1.0).fit(X_tf_text, target)\n",
    "X_cnt_test = cnt_vec.transform(text_test)\n",
    "X_tf_test = tf_transfo.transform(X_cnt_test)\n",
    "\n",
    "predict = clf.predict(X_tf_test)\n",
    "predict"
   ]
  },
  {
   "cell_type": "markdown",
   "metadata": {},
   "source": [
    "#### 1.1 Accuracy, Precision, Recall, F-measure per label and confusion matrix."
   ]
  },
  {
   "cell_type": "code",
   "execution_count": 34,
   "metadata": {},
   "outputs": [
    {
     "data": {
      "text/plain": [
       "0.87"
      ]
     },
     "execution_count": 34,
     "metadata": {},
     "output_type": "execute_result"
    }
   ],
   "source": [
    "accuracy_score(target_test, predict)"
   ]
  },
  {
   "cell_type": "code",
   "execution_count": 35,
   "metadata": {},
   "outputs": [
    {
     "name": "stdout",
     "output_type": "stream",
     "text": [
      "             precision    recall  f1-score   support\n",
      "\n",
      "       ABBR       0.70      0.78      0.74         9\n",
      "       DESC       0.79      0.97      0.87       138\n",
      "       ENTY       0.85      0.76      0.80        94\n",
      "        HUM       0.92      0.89      0.91        65\n",
      "        LOC       0.90      0.85      0.87        81\n",
      "        NUM       0.99      0.85      0.91       113\n",
      "\n",
      "avg / total       0.88      0.87      0.87       500\n",
      "\n"
     ]
    }
   ],
   "source": [
    "print(classification_report(target_test, predict))"
   ]
  },
  {
   "cell_type": "code",
   "execution_count": 36,
   "metadata": {},
   "outputs": [
    {
     "data": {
      "image/png": "[encoded data removed]",
      "text/plain": [
       "<matplotlib.figure.Figure at 0x118cf33c8>"
      ]
     },
     "metadata": {},
     "output_type": "display_data"
    }
   ],
   "source": [
    "C = confusion_matrix(target_test, predict)\n",
    "#labels=[\"ENTY\", \"HUM\", \"NUM\", \"LOC\", \"ABBR\", \"DESC\"]\n",
    "labels = a.index\n",
    "plt.figure()\n",
    "plot_confusion_matrix(C, labels,\n",
    "                      title='Confusion matrix on Coarce label Classification')\n",
    "plt.show()"
   ]
  },
  {
   "cell_type": "markdown",
   "metadata": {},
   "source": [
    "#### 1.2 Provide examples of prediction errors (positive and negative)."
   ]
  },
  {
   "cell_type": "markdown",
   "metadata": {},
   "source": [
    "def neg_pos_measure(true, predicted):\n",
    "\n",
    "    TP = 0\n",
    "    FP = 0\n",
    "    TN = 0\n",
    "    FN = 0\n",
    "\n",
    "    for i in range(len(predicted)): \n",
    "        if true[i]==predicted[i]:\n",
    "            TP += 1\n",
    "    for i in range(len(predicted)): \n",
    "        if predicted[i]==1 and true[i]==predicted[i]:\n",
    "            FP += 1\n",
    "    for i in range(len(predicted)): \n",
    "        if true[i]!=predicted[i]:\n",
    "            TN += 1\n",
    "    for i in range(len(predicted)): \n",
    "        if predicted[i]==0 and true[i]==predicted[i]:\n",
    "            FN += 1\n",
    "\n",
    "    return(TP, FP, TN, FN)"
   ]
  },
  {
   "cell_type": "markdown",
   "metadata": {},
   "source": [
    "neg_pos_measure(target_test, predict)"
   ]
  },
  {
   "cell_type": "markdown",
   "metadata": {},
   "source": [
    "#C = confusion_matrix(target_test, baseline_classifier(text_test))\n",
    "\n",
    "C = pdml.ConfusionMatrix(target_test, predict)\n",
    "C.print_stats()"
   ]
  },
  {
   "cell_type": "code",
   "execution_count": 40,
   "metadata": {},
   "outputs": [
    {
     "name": "stdout",
     "output_type": "stream",
     "text": [
      "Class : ENTY\n",
      "FP =  0\n",
      "FN =  9 \n",
      "\n",
      "Class : HUM\n",
      "FP =  54\n",
      "FN =  132 \n",
      "\n",
      "Class : NUM\n",
      "FP =  247\n",
      "FN =  13 \n",
      "\n",
      "Class : LOC\n",
      "FP =  0\n",
      "FN =  18 \n",
      "\n",
      "Class : ABBR\n",
      "FP =  0\n",
      "FN =  42 \n",
      "\n",
      "Class : DESC\n",
      "FP =  0\n",
      "FN =  87 \n",
      "\n"
     ]
    }
   ],
   "source": [
    "labels=[\"ENTY\", \"HUM\", \"NUM\", \"LOC\", \"ABBR\", \"DESC\"]\n",
    "C = confusion_matrix(target_test, baseline_classifier(text_test))\n",
    "\n",
    "for i in range(0, len(labels)):\n",
    "    print('Class :', labels[i])\n",
    "    print('FP = ', np.sum(C, axis=0)[i] - C[i, i])\n",
    "    print('FN = ', np.sum(C, axis=1)[i] - C[i, i], '\\n')"
   ]
  },
  {
   "cell_type": "markdown",
   "metadata": {},
   "source": [
    "#### 1.3 Discuss the most ambiguous label pairs (identified in the confusion matrix) and discuss whether the features you have used provide sufficient information to disambiguate the cases."
   ]
  },
  {
   "cell_type": "markdown",
   "metadata": {
    "collapsed": true
   },
   "source": [
    "The most ambiguous label pairs seem to be - in the case of our classifier here - the classes NUM and HUM. They are the two classes most \"mixed\" by the classifier.\n"
   ]
  },
  {
   "cell_type": "markdown",
   "metadata": {},
   "source": [
    "### 2. All labels as a flat classifier"
   ]
  },
  {
   "cell_type": "code",
   "execution_count": 42,
   "metadata": {
    "collapsed": true
   },
   "outputs": [
    {
     "data": {
      "text/plain": [
       "array(['ind', 'other', 'ind', 'ind', 'ind', 'other', 'ind', 'ind', 'ind',\n",
       "       'def', 'ind', 'ind', 'ind', 'ind', 'date', 'ind', 'ind', 'ind',\n",
       "       'def', 'other', 'ind', 'def', 'ind', 'def', 'def', 'ind', 'other',\n",
       "       'other', 'other', 'ind', 'ind', 'other', 'def', 'ind', 'ind', 'ind',\n",
       "       'other', 'ind', 'ind', 'count', 'ind', 'ind', 'def', 'def', 'ind',\n",
       "       'other', 'ind', 'def', 'count', 'ind', 'def', 'ind', 'ind', 'def',\n",
       "       'ind', 'def', 'ind', 'city', 'other', 'ind', 'other', 'ind',\n",
       "       'other', 'food', 'other', 'ind', 'ind', 'ind', 'ind', 'ind',\n",
       "       'other', 'ind', 'city', 'ind', 'other', 'ind', 'currency', 'ind',\n",
       "       'ind', 'ind', 'ind', 'ind', 'ind', 'other', 'ind', 'reason', 'def',\n",
       "       'ind', 'def', 'other', 'ind', 'def', 'ind', 'ind', 'other', 'other',\n",
       "       'ind', 'def', 'ind', 'ind', 'def', 'ind', 'manner', 'ind', 'other',\n",
       "       'def', 'other', 'other', 'ind', 'other', 'ind', 'def', 'ind', 'ind',\n",
       "       'ind', 'ind', 'ind', 'ind', 'ind', 'other', 'ind', 'other', 'def',\n",
       "       'ind', 'other', 'ind', 'ind', 'ind', 'ind', 'ind', 'ind', 'ind',\n",
       "       'def', 'ind', 'other', 'ind', 'other', 'ind', 'ind', 'def', 'ind',\n",
       "       'ind', 'other', 'ind', 'def', 'other', 'ind', 'ind', 'def', 'def',\n",
       "       'ind', 'ind', 'def', 'ind', 'ind', 'other', 'city', 'def', 'ind',\n",
       "       'ind', 'def', 'def', 'ind', 'other', 'ind', 'ind', 'date', 'def',\n",
       "       'ind', 'ind', 'date', 'ind', 'ind', 'def', 'other', 'ind', 'other',\n",
       "       'ind', 'ind', 'ind', 'other', 'def', 'other', 'def', 'other', 'ind',\n",
       "       'ind', 'def', 'other', 'def', 'ind', 'other', 'ind', 'ind', 'def',\n",
       "       'ind', 'ind', 'ind', 'ind', 'substance', 'ind', 'city', 'ind',\n",
       "       'ind', 'ind', 'other', 'ind', 'ind', 'manner', 'ind', 'other',\n",
       "       'ind', 'other', 'ind', 'def', 'ind', 'other', 'other', 'count',\n",
       "       'def', 'other', 'ind', 'exp', 'ind', 'ind', 'manner', 'other',\n",
       "       'other', 'other', 'ind', 'ind', 'ind', 'def', 'count', 'ind', 'def',\n",
       "       'other', 'def', 'other', 'ind', 'ind', 'ind', 'ind', 'def', 'def',\n",
       "       'other', 'def', 'other', 'manner', 'ind', 'ind', 'def', 'ind',\n",
       "       'other', 'def', 'def', 'other', 'ind', 'def', 'ind', 'ind', 'ind',\n",
       "       'count', 'ind', 'ind', 'def', 'def', 'city', 'ind', 'ind', 'ind',\n",
       "       'ind', 'def', 'ind', 'def', 'other', 'def', 'ind', 'ind', 'ind',\n",
       "       'other', 'ind', 'exp', 'def', 'other', 'def', 'other', 'def', 'def',\n",
       "       'other', 'city', 'ind', 'ind', 'ind', 'other', 'def', 'def', 'ind',\n",
       "       'other', 'ind', 'exp', 'other', 'ind', 'ind', 'date', 'other',\n",
       "       'ind', 'ind', 'ind', 'ind', 'city', 'other', 'count', 'ind',\n",
       "       'other', 'other', 'ind', 'other', 'ind', 'other', 'def', 'ind',\n",
       "       'def', 'def', 'ind', 'def', 'ind', 'ind', 'ind', 'def', 'ind',\n",
       "       'date', 'ind', 'ind', 'ind', 'other', 'def', 'ind', 'def', 'other',\n",
       "       'ind', 'ind', 'other', 'ind', 'other', 'ind', 'ind', 'ind', 'ind',\n",
       "       'ind', 'ind', 'other', 'ind', 'ind', 'def', 'ind', 'ind', 'ind',\n",
       "       'ind', 'ind', 'def', 'exp', 'ind', 'ind', 'other', 'ind', 'ind',\n",
       "       'ind', 'def', 'other', 'ind', 'ind', 'def', 'ind', 'ind', 'ind',\n",
       "       'other', 'def', 'exp', 'def', 'ind', 'ind', 'def', 'ind', 'ind',\n",
       "       'ind', 'def', 'ind', 'def', 'ind', 'ind', 'def', 'ind', 'count',\n",
       "       'def', 'ind', 'def', 'ind', 'other', 'other', 'ind', 'ind', 'ind',\n",
       "       'exp', 'other', 'ind', 'ind', 'other', 'ind', 'def', 'ind',\n",
       "       'substance', 'ind', 'exp', 'ind', 'def', 'ind', 'def', 'ind', 'ind',\n",
       "       'date', 'ind', 'ind', 'def', 'other', 'ind', 'ind', 'other', 'def',\n",
       "       'ind', 'def', 'ind', 'other', 'ind', 'def', 'def', 'def', 'ind',\n",
       "       'def', 'ind', 'ind', 'other', 'ind', 'ind', 'ind', 'ind', 'other',\n",
       "       'ind', 'date', 'ind', 'ind', 'ind', 'ind', 'ind', 'ind', 'ind',\n",
       "       'ind', 'other', 'def', 'def', 'ind', 'ind', 'ind', 'ind', 'ind',\n",
       "       'ind', 'def', 'ind', 'ind', 'def', 'def', 'def', 'other', 'other',\n",
       "       'other', 'ind', 'def', 'other', 'def', 'ind', 'ind', 'ind', 'other',\n",
       "       'def', 'other', 'def', 'ind', 'dist', 'other', 'ind', 'def', 'def',\n",
       "       'ind', 'ind', 'ind', 'ind', 'ind', 'count', 'other', 'def'], dtype=object)"
      ]
     },
     "execution_count": 42,
     "metadata": {},
     "output_type": "execute_result"
    }
   ],
   "source": [
    "text = df['Question']\n",
    "target = df['Fine']\n",
    "text_test = df_test['Question']\n",
    "target_test = df_test['Fine']\n",
    "\n",
    "cnt_vec = CountVectorizer()\n",
    "X_cnt_text = cnt_vec.fit_transform(text)\n",
    "\n",
    "tf_transfo = TfidfTransformer()\n",
    "X_tf_text = tf_transfo.fit_transform(X_cnt_text)\n",
    "\n",
    "clf = svm.SVC(C=50.0, gamma=3.0).fit(X_tf_text, target)\n",
    "X_cnt_test = cnt_vec.transform(text_test)\n",
    "X_tf_test = tf_transfo.transform(X_cnt_test)\n",
    "\n",
    "predict = clf.predict(X_tf_test)\n",
    "predict"
   ]
  },
  {
   "cell_type": "markdown",
   "metadata": {},
   "source": [
    "#### 2.1 Accuracy, Precision, Recall, F-measure per label and confusion matrix.\n"
   ]
  },
  {
   "cell_type": "code",
   "execution_count": 43,
   "metadata": {
    "scrolled": true
   },
   "outputs": [
    {
     "data": {
      "text/plain": [
       "0.45400000000000001"
      ]
     },
     "execution_count": 43,
     "metadata": {},
     "output_type": "execute_result"
    }
   ],
   "source": [
    "accuracy_score(target_test, predict)"
   ]
  },
  {
   "cell_type": "code",
   "execution_count": 44,
   "metadata": {
    "collapsed": true
   },
   "outputs": [
    {
     "name": "stdout",
     "output_type": "stream",
     "text": [
      "             precision    recall  f1-score   support\n",
      "\n",
      "        abb       0.00      0.00      0.00         1\n",
      "     animal       0.00      0.00      0.00        16\n",
      "       body       0.00      0.00      0.00         2\n",
      "       city       1.00      0.39      0.56        18\n",
      "      color       0.00      0.00      0.00        10\n",
      "      count       0.88      0.78      0.82         9\n",
      "    country       0.00      0.00      0.00         3\n",
      "   currency       1.00      0.17      0.29         6\n",
      "       date       1.00      0.15      0.26        47\n",
      "        def       0.90      0.74      0.81       123\n",
      "       desc       0.00      0.00      0.00        10\n",
      "     dismed       0.00      0.00      0.00         2\n",
      "       dist       1.00      0.06      0.12        16\n",
      "      event       0.00      0.00      0.00         2\n",
      "        exp       0.71      0.62      0.67         8\n",
      "       food       1.00      0.25      0.40         4\n",
      "         gr       0.00      0.00      0.00         6\n",
      "        ind       0.21      1.00      0.34        55\n",
      "     instru       0.00      0.00      0.00         1\n",
      "       lang       0.00      0.00      0.00         2\n",
      "     manner       0.25      0.50      0.33         2\n",
      "      money       0.00      0.00      0.00         3\n",
      "      mount       0.00      0.00      0.00         3\n",
      "      other       0.51      0.65      0.57        74\n",
      "       perc       0.00      0.00      0.00         3\n",
      "     period       0.00      0.00      0.00         8\n",
      "      plant       0.00      0.00      0.00         5\n",
      "    product       0.00      0.00      0.00         4\n",
      "     reason       1.00      0.17      0.29         6\n",
      "      speed       0.00      0.00      0.00         6\n",
      "      sport       0.00      0.00      0.00         1\n",
      "      state       0.00      0.00      0.00         7\n",
      "  substance       1.00      0.13      0.24        15\n",
      "   techmeth       0.00      0.00      0.00         1\n",
      "       temp       0.00      0.00      0.00         5\n",
      "     termeq       0.00      0.00      0.00         7\n",
      "      title       0.00      0.00      0.00         1\n",
      "        veh       0.00      0.00      0.00         4\n",
      "     weight       0.00      0.00      0.00         4\n",
      "\n",
      "avg / total       0.57      0.45      0.41       500\n",
      "\n"
     ]
    },
    {
     "name": "stderr",
     "output_type": "stream",
     "text": [
      "/Library/Frameworks/Python.framework/Versions/3.6/lib/python3.6/site-packages/sklearn/metrics/classification.py:1113: UndefinedMetricWarning: Precision and F-score are ill-defined and being set to 0.0 in labels with no predicted samples.\n",
      "  'precision', 'predicted', average, warn_for)\n"
     ]
    }
   ],
   "source": [
    "print(classification_report(target_test, predict))"
   ]
  },
  {
   "cell_type": "code",
   "execution_count": 45,
   "metadata": {},
   "outputs": [
    {
     "data": {
      "image/png": "[encoded data removed]",
      "text/plain": [
       "<matplotlib.figure.Figure at 0x118d08470>"
      ]
     },
     "metadata": {},
     "output_type": "display_data"
    }
   ],
   "source": [
    "C = confusion_matrix(target_test, predict)\n",
    "#labels=[\"ENTY\", \"HUM\", \"NUM\", \"LOC\", \"ABBR\", \"DESC\"]\n",
    "labels = b.index\n",
    "plt.figure()\n",
    "plot_confusion_matrix(C, labels,\n",
    "                      title='Confusion matrix on Coarce label Classification')\n",
    "plt.show()"
   ]
  },
  {
   "cell_type": "markdown",
   "metadata": {},
   "source": [
    "#### 2.2 Provide examples of prediction errors (positive and negative).\n"
   ]
  },
  {
   "cell_type": "code",
   "execution_count": 46,
   "metadata": {
    "collapsed": true
   },
   "outputs": [],
   "source": [
    "# TO DO"
   ]
  },
  {
   "cell_type": "markdown",
   "metadata": {},
   "source": [
    "#### 2.3 Discuss the most ambiguous label pairs (identified in the confusion matrix) and discuss whether the features you have used provide sufficient information to disambiguate the cases.\n"
   ]
  },
  {
   "cell_type": "markdown",
   "metadata": {},
   "source": [
    "### 3. A hierarchical classifier which predicts the fine-grained labels given the coarse label as proposed in the paper. "
   ]
  },
  {
   "cell_type": "code",
   "execution_count": 47,
   "metadata": {
    "collapsed": true
   },
   "outputs": [],
   "source": [
    "# TO DO"
   ]
  },
  {
   "cell_type": "markdown",
   "metadata": {},
   "source": [
    "#### Implement this as a two-step procedure - run the coarse-label classifier, then a second level classifier which takes the prediction of the first classifier as input."
   ]
  },
  {
   "cell_type": "code",
   "execution_count": 59,
   "metadata": {},
   "outputs": [
    {
     "data": {
      "text/plain": [
       "\"\\n\\n# Train\\ndiv1 = np.random.rand(len(df)) < 0.5\\nc1 = df[div1]\\nc2 = df[~div1]\\n# Test\\ndiv2 = np.random.rand(len(df_test)) < 0.5\\nc1_test = df_test[div2]\\nc2_test = df_test[~div2]\\n\\ntext1 = c1['Question']\\ntarget1 = c1['Coarce']\\ntext_test1 = c1_test['Coarce']\\ntarget_test1 = c1_test['Fine']\\n\\ntext2 = c2['Question']\\ntarget2 = c2['Fine']\\ntext_test2 = c2_test['Coarce']\\ntarget_test2 = c2_test['Fine']\\n\\n\""
      ]
     },
     "execution_count": 59,
     "metadata": {},
     "output_type": "execute_result"
    }
   ],
   "source": [
    "\n",
    "text = df['Question']\n",
    "target1 = df['Coarce']\n",
    "target2 = df['Fine']\n",
    "text_test = df_test['Question']\n",
    "target_test1 = df_test['Coarce']\n",
    "target_test2 = df_test['Fine']\n",
    "'''\n",
    "\n",
    "# Train\n",
    "div1 = np.random.rand(len(df)) < 0.5\n",
    "c1 = df[div1]\n",
    "c2 = df[~div1]\n",
    "# Test\n",
    "div2 = np.random.rand(len(df_test)) < 0.5\n",
    "c1_test = df_test[div2]\n",
    "c2_test = df_test[~div2]\n",
    "\n",
    "text1 = c1['Question']\n",
    "target1 = c1['Coarce']\n",
    "text_test1 = c1_test['Coarce']\n",
    "target_test1 = c1_test['Fine']\n",
    "\n",
    "text2 = c2['Question']\n",
    "target2 = c2['Fine']\n",
    "text_test2 = c2_test['Coarce']\n",
    "target_test2 = c2_test['Fine']\n",
    "\n",
    "'''"
   ]
  },
  {
   "cell_type": "code",
   "execution_count": 60,
   "metadata": {
    "collapsed": true
   },
   "outputs": [
    {
     "data": {
      "text/plain": [
       "array(['NUM', 'ENTY', 'HUM', 'DESC', 'NUM', 'NUM', 'HUM', 'DESC', 'DESC',\n",
       "       'DESC', 'LOC', 'DESC', 'ENTY', 'HUM', 'NUM', 'NUM', 'ENTY', 'HUM',\n",
       "       'DESC', 'DESC', 'HUM', 'DESC', 'ENTY', 'DESC', 'DESC', 'HUM',\n",
       "       'DESC', 'DESC', 'LOC', 'ENTY', 'ENTY', 'LOC', 'DESC', 'ENTY', 'HUM',\n",
       "       'NUM', 'LOC', 'DESC', 'NUM', 'NUM', 'ENTY', 'DESC', 'DESC', 'DESC',\n",
       "       'ENTY', 'ENTY', 'NUM', 'DESC', 'NUM', 'HUM', 'DESC', 'HUM', 'ENTY',\n",
       "       'DESC', 'ENTY', 'DESC', 'NUM', 'LOC', 'LOC', 'DESC', 'LOC', 'HUM',\n",
       "       'ENTY', 'ENTY', 'LOC', 'HUM', 'DESC', 'ENTY', 'ENTY', 'ENTY', 'NUM',\n",
       "       'NUM', 'LOC', 'HUM', 'LOC', 'ENTY', 'ENTY', 'DESC', 'NUM', 'HUM',\n",
       "       'DESC', 'HUM', 'HUM', 'NUM', 'NUM', 'DESC', 'DESC', 'HUM', 'DESC',\n",
       "       'DESC', 'ENTY', 'DESC', 'ENTY', 'ENTY', 'ENTY', 'LOC', 'ENTY',\n",
       "       'DESC', 'ENTY', 'HUM', 'DESC', 'HUM', 'DESC', 'HUM', 'ENTY', 'DESC',\n",
       "       'ENTY', 'ENTY', 'NUM', 'LOC', 'ENTY', 'DESC', 'ENTY', 'ENTY',\n",
       "       'DESC', 'HUM', 'NUM', 'ENTY', 'HUM', 'LOC', 'NUM', 'ENTY', 'DESC',\n",
       "       'HUM', 'DESC', 'HUM', 'DESC', 'ENTY', 'DESC', 'DESC', 'DESC', 'HUM',\n",
       "       'DESC', 'ENTY', 'DESC', 'ENTY', 'LOC', 'HUM', 'ENTY', 'DESC',\n",
       "       'DESC', 'ENTY', 'LOC', 'ENTY', 'DESC', 'ENTY', 'HUM', 'ENTY',\n",
       "       'DESC', 'DESC', 'ENTY', 'HUM', 'DESC', 'NUM', 'HUM', 'ENTY', 'LOC',\n",
       "       'DESC', 'ENTY', 'ENTY', 'DESC', 'DESC', 'ENTY', 'LOC', 'ENTY',\n",
       "       'ENTY', 'NUM', 'DESC', 'ENTY', 'HUM', 'NUM', 'DESC', 'NUM', 'DESC',\n",
       "       'LOC', 'DESC', 'LOC', 'NUM', 'DESC', 'NUM', 'ENTY', 'DESC', 'LOC',\n",
       "       'DESC', 'DESC', 'HUM', 'HUM', 'DESC', 'LOC', 'DESC', 'ENTY', 'ENTY',\n",
       "       'ENTY', 'HUM', 'DESC', 'ENTY', 'ENTY', 'HUM', 'ENTY', 'ENTY',\n",
       "       'ENTY', 'LOC', 'HUM', 'ENTY', 'ENTY', 'LOC', 'HUM', 'ENTY', 'DESC',\n",
       "       'DESC', 'NUM', 'NUM', 'ENTY', 'ENTY', 'DESC', 'ENTY', 'DESC',\n",
       "       'ENTY', 'NUM', 'DESC', 'DESC', 'HUM', 'ABBR', 'ENTY', 'ENTY',\n",
       "       'DESC', 'NUM', 'DESC', 'LOC', 'HUM', 'ENTY', 'ENTY', 'DESC', 'NUM',\n",
       "       'ENTY', 'DESC', 'LOC', 'DESC', 'ENTY', 'DESC', 'ENTY', 'DESC',\n",
       "       'DESC', 'DESC', 'DESC', 'LOC', 'DESC', 'DESC', 'DESC', 'ENTY',\n",
       "       'HUM', 'DESC', 'ENTY', 'ENTY', 'DESC', 'DESC', 'LOC', 'ENTY',\n",
       "       'DESC', 'ENTY', 'HUM', 'HUM', 'NUM', 'ENTY', 'NUM', 'DESC', 'DESC',\n",
       "       'LOC', 'NUM', 'DESC', 'ENTY', 'DESC', 'DESC', 'HUM', 'DESC', 'ENTY',\n",
       "       'DESC', 'NUM', 'ENTY', 'ENTY', 'LOC', 'HUM', 'ABBR', 'DESC', 'LOC',\n",
       "       'DESC', 'DESC', 'DESC', 'DESC', 'DESC', 'LOC', 'ENTY', 'ENTY',\n",
       "       'DESC', 'ENTY', 'DESC', 'DESC', 'DESC', 'ENTY', 'ENTY', 'ABBR',\n",
       "       'NUM', 'DESC', 'ENTY', 'NUM', 'LOC', 'HUM', 'ENTY', 'HUM', 'NUM',\n",
       "       'LOC', 'LOC', 'NUM', 'DESC', 'ENTY', 'DESC', 'HUM', 'LOC', 'ENTY',\n",
       "       'DESC', 'DESC', 'HUM', 'DESC', 'ENTY', 'ENTY', 'DESC', 'DESC',\n",
       "       'DESC', 'NUM', 'DESC', 'DESC', 'NUM', 'ENTY', 'ENTY', 'ENTY',\n",
       "       'ENTY', 'DESC', 'ENTY', 'DESC', 'ENTY', 'NUM', 'ENTY', 'ENTY',\n",
       "       'HUM', 'NUM', 'HUM', 'HUM', 'ENTY', 'NUM', 'DESC', 'ENTY', 'ENTY',\n",
       "       'LOC', 'ENTY', 'DESC', 'HUM', 'ENTY', 'ENTY', 'ENTY', 'ENTY',\n",
       "       'DESC', 'ABBR', 'ENTY', 'DESC', 'DESC', 'ENTY', 'ENTY', 'ENTY',\n",
       "       'DESC', 'ENTY', 'ENTY', 'ENTY', 'DESC', 'ENTY', 'ENTY', 'NUM',\n",
       "       'LOC', 'DESC', 'ABBR', 'DESC', 'HUM', 'HUM', 'DESC', 'HUM', 'HUM',\n",
       "       'NUM', 'DESC', 'HUM', 'DESC', 'DESC', 'HUM', 'DESC', 'ENTY', 'NUM',\n",
       "       'DESC', 'DESC', 'DESC', 'ENTY', 'ENTY', 'LOC', 'DESC', 'DESC',\n",
       "       'NUM', 'ABBR', 'NUM', 'LOC', 'DESC', 'LOC', 'HUM', 'DESC', 'HUM',\n",
       "       'ENTY', 'ENTY', 'ABBR', 'ENTY', 'DESC', 'DESC', 'DESC', 'HUM',\n",
       "       'HUM', 'NUM', 'ENTY', 'HUM', 'DESC', 'DESC', 'ENTY', 'DESC', 'LOC',\n",
       "       'DESC', 'HUM', 'DESC', 'ENTY', 'LOC', 'HUM', 'DESC', 'DESC', 'DESC',\n",
       "       'NUM', 'ABBR', 'ENTY', 'HUM', 'ENTY', 'LOC', 'ENTY', 'HUM', 'ENTY',\n",
       "       'DESC', 'HUM', 'NUM', 'ENTY', 'ENTY', 'ENTY', 'ENTY', 'NUM', 'DESC',\n",
       "       'NUM', 'ENTY', 'LOC', 'DESC', 'DESC', 'ENTY', 'ENTY', 'ENTY',\n",
       "       'DESC', 'LOC', 'DESC', 'DESC', 'ENTY', 'ENTY', 'DESC', 'DESC',\n",
       "       'DESC', 'ENTY', 'NUM', 'ENTY', 'ENTY', 'DESC', 'LOC', 'ENTY',\n",
       "       'ENTY', 'ENTY', 'DESC', 'ENTY', 'DESC', 'LOC', 'DESC', 'ENTY',\n",
       "       'NUM', 'ENTY', 'ENTY', 'DESC', 'DESC', 'ENTY', 'ENTY', 'DESC',\n",
       "       'HUM', 'ENTY', 'NUM', 'ENTY', 'DESC'], dtype=object)"
      ]
     },
     "execution_count": 60,
     "metadata": {},
     "output_type": "execute_result"
    }
   ],
   "source": [
    "cnt_vec = CountVectorizer()\n",
    "X_cnt_text = cnt_vec.fit_transform(text)\n",
    "\n",
    "tf_transfo = TfidfTransformer()\n",
    "X_tf_text = tf_transfo.fit_transform(X_cnt_text)\n",
    "\n",
    "# FIRST STEP - COARCE\n",
    "clf = svm.SVC(C=6.0, gamma=3.0).fit(X_tf_text, target1)\n",
    "X_cnt_test = cnt_vec.transform(text_test)\n",
    "X_tf_test = tf_transfo.transform(X_cnt_test)\n",
    "\n",
    "predict_coarce = clf.predict(X_tf_test)\n",
    "predict_coarce"
   ]
  },
  {
   "cell_type": "markdown",
   "metadata": {
    "collapsed": true
   },
   "source": [
    "# SECOND STEP - FINE\n",
    "X_cnt_pred = cnt_vec.fit_transform(predict_coarce)\n",
    "X_tf_pred = tf_transfo.fit_transform(X_cnt_pred)\n",
    "\n",
    "clf2 = svm.SVC(C=6.0, gamma=3.0).fit(X_tf_pred, target2)"
   ]
  },
  {
   "cell_type": "code",
   "execution_count": 63,
   "metadata": {
    "collapsed": true
   },
   "outputs": [
    {
     "data": {
      "text/plain": [
       "{'ABBR': ['abb', 'exp'],\n",
       " 'DESC': ['def', 'desc', 'manner', 'reason'],\n",
       " 'ENTY': ['animal',\n",
       "  'body',\n",
       "  'color',\n",
       "  'cremat',\n",
       "  'currency',\n",
       "  'dismed',\n",
       "  'event',\n",
       "  'food',\n",
       "  'instru',\n",
       "  'lang',\n",
       "  'letter',\n",
       "  'other',\n",
       "  'plant',\n",
       "  'product',\n",
       "  'religion',\n",
       "  'sport',\n",
       "  'substance',\n",
       "  'symbol',\n",
       "  'techmeth',\n",
       "  'termeq',\n",
       "  'veh',\n",
       "  'word'],\n",
       " 'HUM': ['gr', 'ind', 'title', 'desc'],\n",
       " 'LOC': ['city', 'country', 'mount', 'other', 'state'],\n",
       " 'NUM': ['code',\n",
       "  'count',\n",
       "  'date',\n",
       "  'dist',\n",
       "  'money',\n",
       "  'order',\n",
       "  'other',\n",
       "  'period',\n",
       "  'perc',\n",
       "  'speed',\n",
       "  'temp',\n",
       "  'size',\n",
       "  'weight']}"
      ]
     },
     "execution_count": 63,
     "metadata": {},
     "output_type": "execute_result"
    }
   ],
   "source": [
    "Fine = {'ABBR' : ['abb', 'exp'],\n",
    "        'ENTY' : ['animal', 'body', 'color', 'cremat', 'currency', 'dismed', 'event', 'food', 'instru', 'lang',\n",
    "                   'letter', 'other', 'plant', 'product', 'religion', 'sport', 'substance', 'symbol', 'techmeth',\n",
    "                   'termeq', 'veh', 'word'],\n",
    "        'DESC' : ['def', 'desc', 'manner', 'reason'],\n",
    "        'HUM' : ['gr', 'ind', 'title', 'desc'],\n",
    "        'LOC' : ['city', 'country', 'mount', 'other', 'state'], \n",
    "        'NUM' : ['code', 'count', 'date', 'dist', 'money', 'order', 'other', 'period', 'perc', 'speed',\n",
    "                    'temp', 'size', 'weight']}\n",
    "Fine"
   ]
  },
  {
   "cell_type": "code",
   "execution_count": 64,
   "metadata": {
    "collapsed": true
   },
   "outputs": [],
   "source": [
    "text = df['Question']\n",
    "target1 = df['Coarce']\n",
    "target2 = df['Fine']\n",
    "text_test = df_test['Question']\n",
    "target_test1 = df_test['Coarce']\n",
    "target_test2 = df_test['Fine']"
   ]
  },
  {
   "cell_type": "code",
   "execution_count": 53,
   "metadata": {
    "collapsed": true
   },
   "outputs": [
    {
     "ename": "AttributeError",
     "evalue": "lower not found",
     "output_type": "error",
     "traceback": [
      "\u001b[0;31m---------------------------------------------------------------------------\u001b[0m",
      "\u001b[0;31mAttributeError\u001b[0m                            Traceback (most recent call last)",
      "\u001b[0;32m<ipython-input-53-5622f71a0657>\u001b[0m in \u001b[0;36m<module>\u001b[0;34m()\u001b[0m\n\u001b[1;32m      7\u001b[0m \u001b[0;31m# FIRST STEP - COARCE\u001b[0m\u001b[0;34m\u001b[0m\u001b[0;34m\u001b[0m\u001b[0m\n\u001b[1;32m      8\u001b[0m \u001b[0mclf1\u001b[0m \u001b[0;34m=\u001b[0m \u001b[0msvm\u001b[0m\u001b[0;34m.\u001b[0m\u001b[0mSVC\u001b[0m\u001b[0;34m(\u001b[0m\u001b[0mC\u001b[0m\u001b[0;34m=\u001b[0m\u001b[0;36m6.0\u001b[0m\u001b[0;34m,\u001b[0m \u001b[0mgamma\u001b[0m\u001b[0;34m=\u001b[0m\u001b[0;36m3.0\u001b[0m\u001b[0;34m)\u001b[0m\u001b[0;34m.\u001b[0m\u001b[0mfit\u001b[0m\u001b[0;34m(\u001b[0m\u001b[0mX_tf_text\u001b[0m\u001b[0;34m,\u001b[0m \u001b[0mtarget1\u001b[0m\u001b[0;34m)\u001b[0m\u001b[0;34m\u001b[0m\u001b[0m\n\u001b[0;32m----> 9\u001b[0;31m \u001b[0mX_cnt_test\u001b[0m \u001b[0;34m=\u001b[0m \u001b[0mcnt_vec\u001b[0m\u001b[0;34m.\u001b[0m\u001b[0mtransform\u001b[0m\u001b[0;34m(\u001b[0m\u001b[0mX_tf_text\u001b[0m\u001b[0;34m)\u001b[0m\u001b[0;34m\u001b[0m\u001b[0m\n\u001b[0m\u001b[1;32m     10\u001b[0m \u001b[0mX_tf_test\u001b[0m \u001b[0;34m=\u001b[0m \u001b[0mtf_transfo\u001b[0m\u001b[0;34m.\u001b[0m\u001b[0mtransform\u001b[0m\u001b[0;34m(\u001b[0m\u001b[0mX_cnt_test\u001b[0m\u001b[0;34m)\u001b[0m\u001b[0;34m\u001b[0m\u001b[0m\n\u001b[1;32m     11\u001b[0m \u001b[0;34m\u001b[0m\u001b[0m\n",
      "\u001b[0;32m/Library/Frameworks/Python.framework/Versions/3.6/lib/python3.6/site-packages/sklearn/feature_extraction/text.py\u001b[0m in \u001b[0;36mtransform\u001b[0;34m(self, raw_documents)\u001b[0m\n\u001b[1;32m    891\u001b[0m \u001b[0;34m\u001b[0m\u001b[0m\n\u001b[1;32m    892\u001b[0m         \u001b[0;31m# use the same matrix-building strategy as fit_transform\u001b[0m\u001b[0;34m\u001b[0m\u001b[0;34m\u001b[0m\u001b[0m\n\u001b[0;32m--> 893\u001b[0;31m         \u001b[0m_\u001b[0m\u001b[0;34m,\u001b[0m \u001b[0mX\u001b[0m \u001b[0;34m=\u001b[0m \u001b[0mself\u001b[0m\u001b[0;34m.\u001b[0m\u001b[0m_count_vocab\u001b[0m\u001b[0;34m(\u001b[0m\u001b[0mraw_documents\u001b[0m\u001b[0;34m,\u001b[0m \u001b[0mfixed_vocab\u001b[0m\u001b[0;34m=\u001b[0m\u001b[0;32mTrue\u001b[0m\u001b[0;34m)\u001b[0m\u001b[0;34m\u001b[0m\u001b[0m\n\u001b[0m\u001b[1;32m    894\u001b[0m         \u001b[0;32mif\u001b[0m \u001b[0mself\u001b[0m\u001b[0;34m.\u001b[0m\u001b[0mbinary\u001b[0m\u001b[0;34m:\u001b[0m\u001b[0;34m\u001b[0m\u001b[0m\n\u001b[1;32m    895\u001b[0m             \u001b[0mX\u001b[0m\u001b[0;34m.\u001b[0m\u001b[0mdata\u001b[0m\u001b[0;34m.\u001b[0m\u001b[0mfill\u001b[0m\u001b[0;34m(\u001b[0m\u001b[0;36m1\u001b[0m\u001b[0;34m)\u001b[0m\u001b[0;34m\u001b[0m\u001b[0m\n",
      "\u001b[0;32m/Library/Frameworks/Python.framework/Versions/3.6/lib/python3.6/site-packages/sklearn/feature_extraction/text.py\u001b[0m in \u001b[0;36m_count_vocab\u001b[0;34m(self, raw_documents, fixed_vocab)\u001b[0m\n\u001b[1;32m    760\u001b[0m         \u001b[0;32mfor\u001b[0m \u001b[0mdoc\u001b[0m \u001b[0;32min\u001b[0m \u001b[0mraw_documents\u001b[0m\u001b[0;34m:\u001b[0m\u001b[0;34m\u001b[0m\u001b[0m\n\u001b[1;32m    761\u001b[0m             \u001b[0mfeature_counter\u001b[0m \u001b[0;34m=\u001b[0m \u001b[0;34m{\u001b[0m\u001b[0;34m}\u001b[0m\u001b[0;34m\u001b[0m\u001b[0m\n\u001b[0;32m--> 762\u001b[0;31m             \u001b[0;32mfor\u001b[0m \u001b[0mfeature\u001b[0m \u001b[0;32min\u001b[0m \u001b[0manalyze\u001b[0m\u001b[0;34m(\u001b[0m\u001b[0mdoc\u001b[0m\u001b[0;34m)\u001b[0m\u001b[0;34m:\u001b[0m\u001b[0;34m\u001b[0m\u001b[0m\n\u001b[0m\u001b[1;32m    763\u001b[0m                 \u001b[0;32mtry\u001b[0m\u001b[0;34m:\u001b[0m\u001b[0;34m\u001b[0m\u001b[0m\n\u001b[1;32m    764\u001b[0m                     \u001b[0mfeature_idx\u001b[0m \u001b[0;34m=\u001b[0m \u001b[0mvocabulary\u001b[0m\u001b[0;34m[\u001b[0m\u001b[0mfeature\u001b[0m\u001b[0;34m]\u001b[0m\u001b[0;34m\u001b[0m\u001b[0m\n",
      "\u001b[0;32m/Library/Frameworks/Python.framework/Versions/3.6/lib/python3.6/site-packages/sklearn/feature_extraction/text.py\u001b[0m in \u001b[0;36m<lambda>\u001b[0;34m(doc)\u001b[0m\n\u001b[1;32m    239\u001b[0m \u001b[0;34m\u001b[0m\u001b[0m\n\u001b[1;32m    240\u001b[0m             return lambda doc: self._word_ngrams(\n\u001b[0;32m--> 241\u001b[0;31m                 tokenize(preprocess(self.decode(doc))), stop_words)\n\u001b[0m\u001b[1;32m    242\u001b[0m \u001b[0;34m\u001b[0m\u001b[0m\n\u001b[1;32m    243\u001b[0m         \u001b[0;32melse\u001b[0m\u001b[0;34m:\u001b[0m\u001b[0;34m\u001b[0m\u001b[0m\n",
      "\u001b[0;32m/Library/Frameworks/Python.framework/Versions/3.6/lib/python3.6/site-packages/sklearn/feature_extraction/text.py\u001b[0m in \u001b[0;36m<lambda>\u001b[0;34m(x)\u001b[0m\n\u001b[1;32m    205\u001b[0m \u001b[0;34m\u001b[0m\u001b[0m\n\u001b[1;32m    206\u001b[0m         \u001b[0;32mif\u001b[0m \u001b[0mself\u001b[0m\u001b[0;34m.\u001b[0m\u001b[0mlowercase\u001b[0m\u001b[0;34m:\u001b[0m\u001b[0;34m\u001b[0m\u001b[0m\n\u001b[0;32m--> 207\u001b[0;31m             \u001b[0;32mreturn\u001b[0m \u001b[0;32mlambda\u001b[0m \u001b[0mx\u001b[0m\u001b[0;34m:\u001b[0m \u001b[0mstrip_accents\u001b[0m\u001b[0;34m(\u001b[0m\u001b[0mx\u001b[0m\u001b[0;34m.\u001b[0m\u001b[0mlower\u001b[0m\u001b[0;34m(\u001b[0m\u001b[0;34m)\u001b[0m\u001b[0;34m)\u001b[0m\u001b[0;34m\u001b[0m\u001b[0m\n\u001b[0m\u001b[1;32m    208\u001b[0m         \u001b[0;32melse\u001b[0m\u001b[0;34m:\u001b[0m\u001b[0;34m\u001b[0m\u001b[0m\n\u001b[1;32m    209\u001b[0m             \u001b[0;32mreturn\u001b[0m \u001b[0mstrip_accents\u001b[0m\u001b[0;34m\u001b[0m\u001b[0m\n",
      "\u001b[0;32m/Library/Frameworks/Python.framework/Versions/3.6/lib/python3.6/site-packages/scipy/sparse/base.py\u001b[0m in \u001b[0;36m__getattr__\u001b[0;34m(self, attr)\u001b[0m\n\u001b[1;32m    574\u001b[0m             \u001b[0;32mreturn\u001b[0m \u001b[0mself\u001b[0m\u001b[0;34m.\u001b[0m\u001b[0mgetnnz\u001b[0m\u001b[0;34m(\u001b[0m\u001b[0;34m)\u001b[0m\u001b[0;34m\u001b[0m\u001b[0m\n\u001b[1;32m    575\u001b[0m         \u001b[0;32melse\u001b[0m\u001b[0;34m:\u001b[0m\u001b[0;34m\u001b[0m\u001b[0m\n\u001b[0;32m--> 576\u001b[0;31m             \u001b[0;32mraise\u001b[0m \u001b[0mAttributeError\u001b[0m\u001b[0;34m(\u001b[0m\u001b[0mattr\u001b[0m \u001b[0;34m+\u001b[0m \u001b[0;34m\" not found\"\u001b[0m\u001b[0;34m)\u001b[0m\u001b[0;34m\u001b[0m\u001b[0m\n\u001b[0m\u001b[1;32m    577\u001b[0m \u001b[0;34m\u001b[0m\u001b[0m\n\u001b[1;32m    578\u001b[0m     \u001b[0;32mdef\u001b[0m \u001b[0mtranspose\u001b[0m\u001b[0;34m(\u001b[0m\u001b[0mself\u001b[0m\u001b[0;34m,\u001b[0m \u001b[0maxes\u001b[0m\u001b[0;34m=\u001b[0m\u001b[0;32mNone\u001b[0m\u001b[0;34m,\u001b[0m \u001b[0mcopy\u001b[0m\u001b[0;34m=\u001b[0m\u001b[0;32mFalse\u001b[0m\u001b[0;34m)\u001b[0m\u001b[0;34m:\u001b[0m\u001b[0;34m\u001b[0m\u001b[0m\n",
      "\u001b[0;31mAttributeError\u001b[0m: lower not found"
     ]
    }
   ],
   "source": [
    "cnt_vec = CountVectorizer()\n",
    "X_cnt_text = cnt_vec.fit_transform(text)\n",
    "\n",
    "tf_transfo = TfidfTransformer()\n",
    "X_tf_text = tf_transfo.fit_transform(X_cnt_text)\n",
    "\n",
    "# FIRST STEP - COARCE\n",
    "clf1 = svm.SVC(C=6.0, gamma=3.0).fit(X_tf_text, target1)\n",
    "X_cnt_test = cnt_vec.transform(X_tf_text)\n",
    "X_tf_test = tf_transfo.transform(X_cnt_test)\n",
    "\n",
    "predict_coarce = clf1.predict(X_tf_test)\n",
    "predict_coarce\n",
    "\n",
    "X_cnt_pred = cnt_vec.fit_transform(predict_coarce)\n",
    "X_tf_pred = tf_transfo.fit_transform(X_cnt_pred)\n",
    "\n",
    "# SECOND STEP - FINE\n",
    "clf2 = svm.SVC(C=6.0, gamma=3.0).fit(X_tf_pred, target2)\n",
    "X_cnt_test1 = cnt_vec.transform(predict_coarce)\n",
    "X_tf_test1 = tf_transfo.transform(X_cnt_test1)\n",
    "\n",
    "predict_fine = clf2.predict(X_tf_test1)\n",
    "\n"
   ]
  },
  {
   "cell_type": "code",
   "execution_count": null,
   "metadata": {
    "collapsed": true
   },
   "outputs": [],
   "source": [
    "\n",
    "'''\n",
    "#___________________________________________________________\n",
    "\n",
    "X_cnt_pred = cnt_vec.fit_transform(predict_coarce)\n",
    "X_tf_pred = tf_transfo.fit_transform(X_cnt_pred)\n",
    "\n",
    "# SECOND STEP - FINE\n",
    "clf2 = svm.SVC(C=6.0, gamma=3.0).fit(X_tf_pred, target2)\n",
    "X_cnt_test1 = cnt_vec.transform(predict_coarce)\n",
    "X_tf_test1 = tf_transfo.transform(X_cnt_test1)\n",
    "\n",
    "predict_fine = clf2.predict(X_tf_test1)\n",
    "'''"
   ]
  },
  {
   "cell_type": "markdown",
   "metadata": {},
   "source": [
    "### 1.4.3 Optionally, analyze which of the features are most helpful for this task among lemma, POS, NER, Chunks and Related Words."
   ]
  },
  {
   "cell_type": "markdown",
   "metadata": {},
   "source": [
    "### 1.4.4 Note that the dataset is quite small (5,500 questions in the training dataset for 50 labels). How would you determine whether your model overfits on this data?"
   ]
  },
  {
   "cell_type": "markdown",
   "metadata": {},
   "source": [
    "- Dataset Split\n",
    "- Cross Validation\n",
    "- Bootstrap\n",
    "\n",
    "(EXPAND ON IT)"
   ]
  },
  {
   "cell_type": "markdown",
   "metadata": {},
   "source": [
    "## Q1.5 Deep Learning classifier (Optional)\n",
    "\n"
   ]
  },
  {
   "cell_type": "markdown",
   "metadata": {},
   "source": [
    "### 1.5.1 Read and summarize the paper in about 500 words.\n",
    "\n"
   ]
  },
  {
   "cell_type": "code",
   "execution_count": 53,
   "metadata": {
    "collapsed": true
   },
   "outputs": [],
   "source": [
    "# TO DO"
   ]
  },
  {
   "cell_type": "markdown",
   "metadata": {},
   "source": [
    "### 1.5.2 Explain why Convolutional Networks are an appropriate technique for text classification.\n",
    "\n"
   ]
  },
  {
   "cell_type": "code",
   "execution_count": 54,
   "metadata": {
    "collapsed": true
   },
   "outputs": [],
   "source": [
    "# TO DO"
   ]
  },
  {
   "cell_type": "markdown",
   "metadata": {},
   "source": [
    "# Q2. Sequence Labelling for Named Entity Recognition\n",
    "\n"
   ]
  },
  {
   "cell_type": "code",
   "execution_count": 123,
   "metadata": {
    "collapsed": true
   },
   "outputs": [],
   "source": [
    "# ALL TO DO"
   ]
  },
  {
   "cell_type": "markdown",
   "metadata": {},
   "source": [
    "### Q2.1 Features\n",
    "\n"
   ]
  },
  {
   "cell_type": "markdown",
   "metadata": {},
   "source": [
    "#### Q2.1.1 Choosing good features for encoding the problem.\n"
   ]
  },
  {
   "cell_type": "markdown",
   "metadata": {},
   "source": [
    "#### Q2.1.2 Encode your training dataset.\n"
   ]
  },
  {
   "cell_type": "markdown",
   "metadata": {},
   "source": [
    "#### Q2.1.3 Run a classifier over the training dataset.\n"
   ]
  },
  {
   "cell_type": "markdown",
   "metadata": {},
   "source": [
    "#### Q2.1.4 Train and test the model.\n"
   ]
  },
  {
   "cell_type": "markdown",
   "metadata": {},
   "source": [
    "#### Q2.1.5 Perform error analysis and fine tune model parameters on the testa part of the datasets.\n"
   ]
  },
  {
   "cell_type": "markdown",
   "metadata": {},
   "source": [
    "#### Q2.1.6 Perform evaluation over the testb part of the dataset, reporting on accuracy, per label precision, per label recall and per label F-measure, and confusion matrix.\n"
   ]
  },
  {
   "cell_type": "markdown",
   "metadata": {},
   "source": [
    "### Q2.2 Using Pre-trained Word Embeddings (Optional)\n",
    "\n"
   ]
  },
  {
   "cell_type": "markdown",
   "metadata": {},
   "source": [
    "#### Q2.2.1 Add the word2vec embeddings as dense vectors to the features of your NER classifier for each word feature (current word, previous word, next word)."
   ]
  },
  {
   "cell_type": "markdown",
   "metadata": {},
   "source": [
    "#### Q2.2.2 Retrain the English model and report on performance.\n"
   ]
  },
  {
   "cell_type": "markdown",
   "metadata": {},
   "source": [
    "### Q2.3 Comparing Models\n",
    "\n"
   ]
  },
  {
   "cell_type": "markdown",
   "metadata": {},
   "source": [
    "#### 2.3.1 Execute the model in Window Classifier for NER in PyTorch"
   ]
  },
  {
   "cell_type": "markdown",
   "metadata": {},
   "source": [
    "#### 2.3.2 Compare the model you designed in 2.1 with the PyTorch model of 2.3.1. Identify examples correctly tagged by one model but not the other. Identify a way to measure agreement among the two models. Formulate hypotheses explaining the differences you observe."
   ]
  },
  {
   "cell_type": "code",
   "execution_count": null,
   "metadata": {
    "collapsed": true
   },
   "outputs": [],
   "source": []
  }
 ],
 "metadata": {
  "kernelspec": {
   "display_name": "Python 3",
   "language": "python",
   "name": "python3"
  },
  "language_info": {
   "codemirror_mode": {
    "name": "ipython",
    "version": 3
   },
   "file_extension": ".py",
   "mimetype": "text/x-python",
   "name": "python",
   "nbconvert_exporter": "python",
   "pygments_lexer": "ipython3",
   "version": "3.6.2"
  }
 },
 "nbformat": 4,
 "nbformat_minor": 2
}
