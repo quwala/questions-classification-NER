{
 "cells": [
  {
   "cell_type": "code",
   "execution_count": 69,
   "metadata": {},
   "outputs": [],
   "source": [
    "import numpy as np\n",
    "import pandas as pd\n",
    "from sklearn import svm\n",
    "from sklearn.metrics import *\n",
    "import math, csv, re, itertools\n",
    "import matplotlib.pyplot as plt\n",
    "from sklearn.pipeline import FeatureUnion, Pipeline\n",
    "from sklearn.feature_extraction.text import CountVectorizer, TfidfVectorizer\n",
    "from sklearn.feature_extraction import DictVectorizer\n",
    "from sklearn.linear_model import Perceptron\n",
    "from sklearn.base import BaseEstimator, TransformerMixin\n",
    "from sklearn.metrics import classification_report"
   ]
  },
  {
   "cell_type": "code",
   "execution_count": 2,
   "metadata": {},
   "outputs": [
    {
     "data": {
      "text/html": [
       "<div>\n",
       "<style>\n",
       "    .dataframe thead tr:only-child th {\n",
       "        text-align: right;\n",
       "    }\n",
       "\n",
       "    .dataframe thead th {\n",
       "        text-align: left;\n",
       "    }\n",
       "\n",
       "    .dataframe tbody tr th {\n",
       "        vertical-align: top;\n",
       "    }\n",
       "</style>\n",
       "<table border=\"1\" class=\"dataframe\">\n",
       "  <thead>\n",
       "    <tr style=\"text-align: right;\">\n",
       "      <th></th>\n",
       "      <th>Coarce</th>\n",
       "      <th>Fine</th>\n",
       "      <th>Question</th>\n",
       "    </tr>\n",
       "  </thead>\n",
       "  <tbody>\n",
       "    <tr>\n",
       "      <th>0</th>\n",
       "      <td>DESC</td>\n",
       "      <td>manner</td>\n",
       "      <td>How did serfdom develop in and then leave Rus...</td>\n",
       "    </tr>\n",
       "    <tr>\n",
       "      <th>1</th>\n",
       "      <td>ENTY</td>\n",
       "      <td>cremat</td>\n",
       "      <td>What films featured the character Popeye Doyle ?</td>\n",
       "    </tr>\n",
       "    <tr>\n",
       "      <th>2</th>\n",
       "      <td>DESC</td>\n",
       "      <td>manner</td>\n",
       "      <td>How can I find a list of celebrities ' real n...</td>\n",
       "    </tr>\n",
       "    <tr>\n",
       "      <th>3</th>\n",
       "      <td>ENTY</td>\n",
       "      <td>animal</td>\n",
       "      <td>What fowl grabs the spotlight after the Chine...</td>\n",
       "    </tr>\n",
       "    <tr>\n",
       "      <th>4</th>\n",
       "      <td>ABBR</td>\n",
       "      <td>exp</td>\n",
       "      <td>What is the full form of .com ?</td>\n",
       "    </tr>\n",
       "    <tr>\n",
       "      <th>5</th>\n",
       "      <td>HUM</td>\n",
       "      <td>ind</td>\n",
       "      <td>What contemptible scoundrel stole the cork fr...</td>\n",
       "    </tr>\n",
       "    <tr>\n",
       "      <th>6</th>\n",
       "      <td>HUM</td>\n",
       "      <td>gr</td>\n",
       "      <td>What team did baseball 's St. Louis Browns be...</td>\n",
       "    </tr>\n",
       "    <tr>\n",
       "      <th>7</th>\n",
       "      <td>HUM</td>\n",
       "      <td>title</td>\n",
       "      <td>What is the oldest profession ?</td>\n",
       "    </tr>\n",
       "    <tr>\n",
       "      <th>8</th>\n",
       "      <td>DESC</td>\n",
       "      <td>def</td>\n",
       "      <td>What are liver enzymes ?</td>\n",
       "    </tr>\n",
       "    <tr>\n",
       "      <th>9</th>\n",
       "      <td>HUM</td>\n",
       "      <td>ind</td>\n",
       "      <td>Name the scar-faced bounty hunter of The Old ...</td>\n",
       "    </tr>\n",
       "  </tbody>\n",
       "</table>\n",
       "</div>"
      ],
      "text/plain": [
       "  Coarce    Fine                                           Question\n",
       "0   DESC  manner   How did serfdom develop in and then leave Rus...\n",
       "1   ENTY  cremat   What films featured the character Popeye Doyle ?\n",
       "2   DESC  manner   How can I find a list of celebrities ' real n...\n",
       "3   ENTY  animal   What fowl grabs the spotlight after the Chine...\n",
       "4   ABBR     exp                    What is the full form of .com ?\n",
       "5    HUM     ind   What contemptible scoundrel stole the cork fr...\n",
       "6    HUM      gr   What team did baseball 's St. Louis Browns be...\n",
       "7    HUM   title                    What is the oldest profession ?\n",
       "8   DESC     def                           What are liver enzymes ?\n",
       "9    HUM     ind   Name the scar-faced bounty hunter of The Old ..."
      ]
     },
     "execution_count": 2,
     "metadata": {},
     "output_type": "execute_result"
    }
   ],
   "source": [
    "# file = 'questions_training.txt'\n",
    "file = 'training5.csv'\n",
    "\n",
    "data = pd.read_csv(file, encoding='utf8', header=None, sep='\\t', index_col=False)\n",
    "df = pd.DataFrame(data)\n",
    "\n",
    "# Preprocess Training Data\n",
    "df['Coarce'] = df[0].str.extract('([A-Z]\\w{0,})', expand=True)\n",
    "df['Fine'] = df[0].str.extract('(\\:\\w{0,})', expand=True)\n",
    "df['Fine'] = df['Fine'].str[1:]\n",
    "df['Question'] = df[0].str.replace('(\\w{0,}[A-Z]:\\w{0,})', '')\n",
    "df = df.drop(0, axis=1)\n",
    "\n",
    "df.head(10)"
   ]
  },
  {
   "cell_type": "code",
   "execution_count": 3,
   "metadata": {},
   "outputs": [
    {
     "data": {
      "text/html": [
       "<div>\n",
       "<style>\n",
       "    .dataframe thead tr:only-child th {\n",
       "        text-align: right;\n",
       "    }\n",
       "\n",
       "    .dataframe thead th {\n",
       "        text-align: left;\n",
       "    }\n",
       "\n",
       "    .dataframe tbody tr th {\n",
       "        vertical-align: top;\n",
       "    }\n",
       "</style>\n",
       "<table border=\"1\" class=\"dataframe\">\n",
       "  <thead>\n",
       "    <tr style=\"text-align: right;\">\n",
       "      <th></th>\n",
       "      <th>Coarce</th>\n",
       "      <th>Fine</th>\n",
       "      <th>Question</th>\n",
       "    </tr>\n",
       "  </thead>\n",
       "  <tbody>\n",
       "    <tr>\n",
       "      <th>0</th>\n",
       "      <td>NUM</td>\n",
       "      <td>dist</td>\n",
       "      <td>How far is it from Denver to Aspen ?</td>\n",
       "    </tr>\n",
       "    <tr>\n",
       "      <th>1</th>\n",
       "      <td>LOC</td>\n",
       "      <td>city</td>\n",
       "      <td>What county is Modesto , California in ?</td>\n",
       "    </tr>\n",
       "    <tr>\n",
       "      <th>2</th>\n",
       "      <td>HUM</td>\n",
       "      <td>desc</td>\n",
       "      <td>Who was Galileo ?</td>\n",
       "    </tr>\n",
       "    <tr>\n",
       "      <th>3</th>\n",
       "      <td>DESC</td>\n",
       "      <td>def</td>\n",
       "      <td>What is an atom ?</td>\n",
       "    </tr>\n",
       "    <tr>\n",
       "      <th>4</th>\n",
       "      <td>NUM</td>\n",
       "      <td>date</td>\n",
       "      <td>When did Hawaii become a state ?</td>\n",
       "    </tr>\n",
       "    <tr>\n",
       "      <th>5</th>\n",
       "      <td>NUM</td>\n",
       "      <td>dist</td>\n",
       "      <td>How tall is the Sears Building ?</td>\n",
       "    </tr>\n",
       "    <tr>\n",
       "      <th>6</th>\n",
       "      <td>HUM</td>\n",
       "      <td>gr</td>\n",
       "      <td>George Bush purchased a small interest in whi...</td>\n",
       "    </tr>\n",
       "    <tr>\n",
       "      <th>7</th>\n",
       "      <td>ENTY</td>\n",
       "      <td>plant</td>\n",
       "      <td>What is Australia 's national flower ?</td>\n",
       "    </tr>\n",
       "    <tr>\n",
       "      <th>8</th>\n",
       "      <td>DESC</td>\n",
       "      <td>reason</td>\n",
       "      <td>Why does the moon turn orange ?</td>\n",
       "    </tr>\n",
       "    <tr>\n",
       "      <th>9</th>\n",
       "      <td>DESC</td>\n",
       "      <td>def</td>\n",
       "      <td>What is autism ?</td>\n",
       "    </tr>\n",
       "  </tbody>\n",
       "</table>\n",
       "</div>"
      ],
      "text/plain": [
       "  Coarce    Fine                                           Question\n",
       "0    NUM    dist               How far is it from Denver to Aspen ?\n",
       "1    LOC    city           What county is Modesto , California in ?\n",
       "2    HUM    desc                                  Who was Galileo ?\n",
       "3   DESC     def                                  What is an atom ?\n",
       "4    NUM    date                   When did Hawaii become a state ?\n",
       "5    NUM    dist                   How tall is the Sears Building ?\n",
       "6    HUM      gr   George Bush purchased a small interest in whi...\n",
       "7   ENTY   plant             What is Australia 's national flower ?\n",
       "8   DESC  reason                    Why does the moon turn orange ?\n",
       "9   DESC     def                                   What is autism ?"
      ]
     },
     "execution_count": 3,
     "metadata": {},
     "output_type": "execute_result"
    }
   ],
   "source": [
    "# file = 'questions_test.txt'\n",
    "file = 'testset.csv'\n",
    "\n",
    "data = pd.read_csv(file, encoding='utf8', header=None, sep='\\t', index_col=False)\n",
    "df_test = pd.DataFrame(data)\n",
    "\n",
    "# Preprocess Test Data\n",
    "df_test['Coarce'] = df_test[0].str.extract('([A-Z]\\w{0,})', expand=True)\n",
    "df_test['Fine'] = df_test[0].str.extract('(\\:\\w{0,})', expand=True)\n",
    "df_test['Fine'] = df_test['Fine'].str[1:]\n",
    "df_test['Question'] = df_test[0].str.replace('(\\w{0,}[A-Z]:\\w{0,})', '')\n",
    "df_test = df_test.drop(0, axis=1)\n",
    "\n",
    "df_test.head(10)"
   ]
  },
  {
   "cell_type": "code",
   "execution_count": 7,
   "metadata": {},
   "outputs": [],
   "source": [
    "text = df['Question']\n",
    "target1 = df['Coarce']\n",
    "target2 = df['Fine']\n",
    "text_test = df_test['Question']\n",
    "target_test1 = df_test['Coarce']\n",
    "target_test2 = df_test['Fine']\n",
    "\n",
    "# data1 = np.random.rand(len(df)) < 0.5\n",
    "# train1 = df[data1]\n",
    "# train2 = df[~data1]\n",
    "\n",
    "# data2 = np.random.rand(len(df_test)) < 0.5\n",
    "# test1 = df_test[data2]\n",
    "# test2 = df_test[~data2]\n",
    "\n",
    "# text1 = train1['Question']\n",
    "# text2 = train2['Question']\n",
    "\n",
    "# target1 = train1['Coarce']\n",
    "# target2 = train2['Fine']\n",
    "\n",
    "# text_test1 = test1['Question']\n",
    "\n",
    "# len(test1), len(test2)"
   ]
  },
  {
   "cell_type": "code",
   "execution_count": 62,
   "metadata": {
    "scrolled": true
   },
   "outputs": [
    {
     "name": "stderr",
     "output_type": "stream",
     "text": [
      "W:\\Anaconda3\\lib\\site-packages\\sklearn\\linear_model\\stochastic_gradient.py:128: FutureWarning: max_iter and tol parameters have been added in <class 'sklearn.linear_model.perceptron.Perceptron'> in 0.19. If both are left unset, they default to max_iter=5 and tol=None. If tol is not None, max_iter defaults to max_iter=1000. From 0.21, default max_iter will be 1000, and default tol will be 1e-3.\n",
      "  \"and default tol will be 1e-3.\" % type(self), FutureWarning)\n"
     ]
    },
    {
     "data": {
      "text/plain": [
       "'NUM'"
      ]
     },
     "execution_count": 62,
     "metadata": {},
     "output_type": "execute_result"
    }
   ],
   "source": [
    "# cnt_vec = CountVectorizer()\n",
    "# X_cnt_text = cnt_vec.fit_transform(text1)\n",
    "\n",
    "tf_transfo = TfidfVectorizer()\n",
    "X_tf_text = tf_transfo.fit_transform(text)\n",
    "\n",
    "# FIRST STEP - COARCE\n",
    "clf = Perceptron()\n",
    "\n",
    "clf.fit(X_tf_text, target1)\n",
    "\n",
    "# X_cnt_test = cnt_vec.transform(text_test1)\n",
    "\n",
    "X_tf_test = tf_transfo.transform(text_test)\n",
    "\n",
    "predict_coarce = clf.predict(X_tf_test)\n",
    "\n",
    "\n",
    "\n",
    "data = {'Question': df_test['Question'], 'Coarce' : predict_coarce}\n",
    "new_df = pd.DataFrame(data = data)\n",
    "new_df.head(5)\n",
    "\n",
    "question_features = tf_transfo.transform(['when did i wake up ?'])\n",
    "# question_features\n",
    "coarse_prediction = clf.predict(question_features)\n",
    "coarse_prediction[0]"
   ]
  },
  {
   "cell_type": "code",
   "execution_count": 63,
   "metadata": {},
   "outputs": [],
   "source": [
    "# from sklearn.base import BaseEstimator, TransformerMixin\n",
    "\n",
    "# class ItemSelector(BaseEstimator, TransformerMixin):\n",
    "#     def __init__(self, key):\n",
    "#         self.key = key\n",
    "\n",
    "#     def fit(self, x, y=None):\n",
    "#         return self\n",
    "\n",
    "#     def transform(self, data_frame):\n",
    "#         return data_frame[[self.key]]"
   ]
  },
  {
   "cell_type": "code",
   "execution_count": 64,
   "metadata": {},
   "outputs": [],
   "source": [
    "class CoarceLabelExtractor(BaseEstimator, TransformerMixin):\n",
    "\n",
    "    def __init__(self):\n",
    "        pass\n",
    "\n",
    "    def coarse_label(self, question_string):\n",
    "        question_features = tf_transfo.transform([question_string])\n",
    "        coarse_prediction = clf.predict(question_features)\n",
    "\n",
    "        return coarse_prediction[0]\n",
    "\n",
    "    def transform(self, questions, y=None):\n",
    "          return [{'coarse': self.coarse_label(question)} for question in questions]\n",
    "\n",
    "\n",
    "    def fit(self, df, y=None):\n",
    "        return self"
   ]
  },
  {
   "cell_type": "code",
   "execution_count": 65,
   "metadata": {},
   "outputs": [
    {
     "data": {
      "text/plain": [
       "'LOC'"
      ]
     },
     "execution_count": 65,
     "metadata": {},
     "output_type": "execute_result"
    }
   ],
   "source": [
    "CoarceLabelExtractor().coarse_label('where is Arkansas?')"
   ]
  },
  {
   "cell_type": "code",
   "execution_count": 66,
   "metadata": {},
   "outputs": [
    {
     "data": {
      "text/plain": [
       "[{'coarse': 'LOC'}]"
      ]
     },
     "execution_count": 66,
     "metadata": {},
     "output_type": "execute_result"
    }
   ],
   "source": [
    "CoarceLabelExtractor().transform(['where is Arkansas?'])"
   ]
  },
  {
   "cell_type": "code",
   "execution_count": 67,
   "metadata": {},
   "outputs": [
    {
     "name": "stderr",
     "output_type": "stream",
     "text": [
      "W:\\Anaconda3\\lib\\site-packages\\sklearn\\linear_model\\stochastic_gradient.py:128: FutureWarning: max_iter and tol parameters have been added in <class 'sklearn.linear_model.perceptron.Perceptron'> in 0.19. If both are left unset, they default to max_iter=5 and tol=None. If tol is not None, max_iter defaults to max_iter=1000. From 0.21, default max_iter will be 1000, and default tol will be 1e-3.\n",
      "  \"and default tol will be 1e-3.\" % type(self), FutureWarning)\n"
     ]
    },
    {
     "data": {
      "text/plain": [
       "Pipeline(memory=None,\n",
       "     steps=[('union', FeatureUnion(n_jobs=1,\n",
       "       transformer_list=[('tdfif', Pipeline(memory=None,\n",
       "     steps=[('tfidf', TfidfVectorizer(analyzer='word', binary=False, decode_error='strict',\n",
       "        dtype=<class 'numpy.int64'>, encoding='utf-8', input='content',\n",
       "        lowercase=True, max_df=1.0, max...n_jobs=1, penalty=None, random_state=0,\n",
       "      shuffle=True, tol=None, verbose=0, warm_start=False))])"
      ]
     },
     "execution_count": 67,
     "metadata": {},
     "output_type": "execute_result"
    }
   ],
   "source": [
    "# data_test = new_df[['Question', 'Coarce']]\n",
    "# X_cnt_test = cnt_vec.transform(data_test)\n",
    "# X_tf_test = tf_transfo.transform(X_cnt_test)\n",
    "\n",
    "pipeline = Pipeline([\n",
    "\n",
    "    ('union', FeatureUnion(\n",
    "        transformer_list=[\n",
    "            ('tdfif', Pipeline([\n",
    "#                 ('selector', ItemSelector(key='Question')),\n",
    "                ('tfidf', TfidfVectorizer()),\n",
    "            ])),\n",
    "\n",
    "            ('coarse labels', Pipeline([\n",
    "#                 ('selector', ItemSelector(key='Question')),\n",
    "                ('coarse', CoarceLabelExtractor()), \n",
    "                ('dict',DictVectorizer())\n",
    "            ])),\n",
    "\n",
    "        ],\n",
    "    )),\n",
    "\n",
    "    ('perceptron', Perceptron()),\n",
    "])\n",
    "\n",
    "pipeline.fit(text, target2)\n"
   ]
  },
  {
   "cell_type": "code",
   "execution_count": 70,
   "metadata": {},
   "outputs": [
    {
     "name": "stdout",
     "output_type": "stream",
     "text": [
      "             precision    recall  f1-score   support\n",
      "\n",
      "        abb       0.00      0.00      0.00         1\n",
      "     animal       1.00      0.44      0.61        16\n",
      "       body       0.00      0.00      0.00         2\n",
      "       city       0.93      0.72      0.81        18\n",
      "      color       1.00      0.60      0.75        10\n",
      "      count       1.00      0.89      0.94         9\n",
      "    country       0.20      0.67      0.31         3\n",
      "     cremat       0.00      0.00      0.00         0\n",
      "   currency       1.00      1.00      1.00         6\n",
      "       date       0.90      0.98      0.94        47\n",
      "        def       0.79      0.92      0.85       123\n",
      "       desc       0.36      0.40      0.38        10\n",
      "     dismed       0.33      0.50      0.40         2\n",
      "       dist       1.00      0.44      0.61        16\n",
      "      event       0.00      0.00      0.00         2\n",
      "        exp       0.71      0.62      0.67         8\n",
      "       food       0.18      0.75      0.29         4\n",
      "         gr       0.50      0.83      0.62         6\n",
      "        ind       0.87      0.85      0.86        55\n",
      "     instru       1.00      1.00      1.00         1\n",
      "       lang       1.00      1.00      1.00         2\n",
      "     manner       0.29      1.00      0.44         2\n",
      "      money       0.50      0.33      0.40         3\n",
      "      mount       1.00      0.67      0.80         3\n",
      "      other       0.80      0.65      0.72        74\n",
      "       perc       1.00      0.67      0.80         3\n",
      "     period       0.64      0.88      0.74         8\n",
      "      plant       0.00      0.00      0.00         5\n",
      "    product       0.00      0.00      0.00         4\n",
      "     reason       0.83      0.83      0.83         6\n",
      "      speed       0.60      0.50      0.55         6\n",
      "      sport       1.00      1.00      1.00         1\n",
      "      state       0.27      0.43      0.33         7\n",
      "  substance       1.00      0.33      0.50        15\n",
      "   techmeth       1.00      1.00      1.00         1\n",
      "       temp       1.00      0.60      0.75         5\n",
      "     termeq       0.60      0.86      0.71         7\n",
      "      title       0.00      0.00      0.00         1\n",
      "        veh       1.00      0.50      0.67         4\n",
      "     weight       1.00      1.00      1.00         4\n",
      "\n",
      "avg / total       0.79      0.74      0.74       500\n",
      "\n"
     ]
    },
    {
     "name": "stderr",
     "output_type": "stream",
     "text": [
      "W:\\Anaconda3\\lib\\site-packages\\sklearn\\metrics\\classification.py:1135: UndefinedMetricWarning: Precision and F-score are ill-defined and being set to 0.0 in labels with no predicted samples.\n",
      "  'precision', 'predicted', average, warn_for)\n",
      "W:\\Anaconda3\\lib\\site-packages\\sklearn\\metrics\\classification.py:1137: UndefinedMetricWarning: Recall and F-score are ill-defined and being set to 0.0 in labels with no true samples.\n",
      "  'recall', 'true', average, warn_for)\n"
     ]
    }
   ],
   "source": [
    "pred = pipeline.predict(text_test)\n",
    "print(classification_report(target_test2, pred))"
   ]
  },
  {
   "cell_type": "code",
   "execution_count": null,
   "metadata": {},
   "outputs": [],
   "source": []
  }
 ],
 "metadata": {
  "kernelspec": {
   "display_name": "Python 3",
   "language": "python",
   "name": "python3"
  },
  "language_info": {
   "codemirror_mode": {
    "name": "ipython",
    "version": 3
   },
   "file_extension": ".py",
   "mimetype": "text/x-python",
   "name": "python",
   "nbconvert_exporter": "python",
   "pygments_lexer": "ipython3",
   "version": "3.6.2"
  }
 },
 "nbformat": 4,
 "nbformat_minor": 2
}
